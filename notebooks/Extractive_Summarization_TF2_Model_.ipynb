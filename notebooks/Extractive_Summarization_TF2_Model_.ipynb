{
  "nbformat": 4,
  "nbformat_minor": 0,
  "metadata": {
    "accelerator": "GPU",
    "colab": {
      "name": "Extractive Summarization - TF2 Model .ipynb",
      "provenance": [],
      "collapsed_sections": []
    },
    "kernelspec": {
      "display_name": "Python 3",
      "name": "python3"
    },
    "language_info": {
      "name": "python"
    },
    "widgets": {
      "application/vnd.jupyter.widget-state+json": {
        "03044329ecbd452ab4cecdd6752dcb43": {
          "model_module": "@jupyter-widgets/controls",
          "model_name": "HBoxModel",
          "model_module_version": "1.5.0",
          "state": {
            "_view_name": "HBoxView",
            "_dom_classes": [],
            "_model_name": "HBoxModel",
            "_view_module": "@jupyter-widgets/controls",
            "_model_module_version": "1.5.0",
            "_view_count": null,
            "_view_module_version": "1.5.0",
            "box_style": "",
            "layout": "IPY_MODEL_ceac3ddeee41458badc0c3db106a6846",
            "_model_module": "@jupyter-widgets/controls",
            "children": [
              "IPY_MODEL_1fa80acc148a429d9d08f60f40e8654b",
              "IPY_MODEL_173207cf42be4ae4927deb8339a93bbc",
              "IPY_MODEL_f2561d34b2f9494dba2d403cb63c8ff2"
            ]
          }
        },
        "ceac3ddeee41458badc0c3db106a6846": {
          "model_module": "@jupyter-widgets/base",
          "model_name": "LayoutModel",
          "model_module_version": "1.2.0",
          "state": {
            "_view_name": "LayoutView",
            "grid_template_rows": null,
            "right": null,
            "justify_content": null,
            "_view_module": "@jupyter-widgets/base",
            "overflow": null,
            "_model_module_version": "1.2.0",
            "_view_count": null,
            "flex_flow": null,
            "width": null,
            "min_width": null,
            "border": null,
            "align_items": null,
            "bottom": null,
            "_model_module": "@jupyter-widgets/base",
            "top": null,
            "grid_column": null,
            "overflow_y": null,
            "overflow_x": null,
            "grid_auto_flow": null,
            "grid_area": null,
            "grid_template_columns": null,
            "flex": null,
            "_model_name": "LayoutModel",
            "justify_items": null,
            "grid_row": null,
            "max_height": null,
            "align_content": null,
            "visibility": null,
            "align_self": null,
            "height": null,
            "min_height": null,
            "padding": null,
            "grid_auto_rows": null,
            "grid_gap": null,
            "max_width": null,
            "order": null,
            "_view_module_version": "1.2.0",
            "grid_template_areas": null,
            "object_position": null,
            "object_fit": null,
            "grid_auto_columns": null,
            "margin": null,
            "display": null,
            "left": null
          }
        },
        "1fa80acc148a429d9d08f60f40e8654b": {
          "model_module": "@jupyter-widgets/controls",
          "model_name": "HTMLModel",
          "model_module_version": "1.5.0",
          "state": {
            "_view_name": "HTMLView",
            "style": "IPY_MODEL_d25fcfa55c2e4ddbbe890f9d9bbe040d",
            "_dom_classes": [],
            "description": "",
            "_model_name": "HTMLModel",
            "placeholder": "​",
            "_view_module": "@jupyter-widgets/controls",
            "_model_module_version": "1.5.0",
            "value": "100%",
            "_view_count": null,
            "_view_module_version": "1.5.0",
            "description_tooltip": null,
            "_model_module": "@jupyter-widgets/controls",
            "layout": "IPY_MODEL_e3a391b3c688409ebb675c53f2d5eff0"
          }
        },
        "173207cf42be4ae4927deb8339a93bbc": {
          "model_module": "@jupyter-widgets/controls",
          "model_name": "FloatProgressModel",
          "model_module_version": "1.5.0",
          "state": {
            "_view_name": "ProgressView",
            "style": "IPY_MODEL_0bf663c913a04d46ad609a391f50ddfd",
            "_dom_classes": [],
            "description": "",
            "_model_name": "FloatProgressModel",
            "bar_style": "success",
            "max": 2298,
            "_view_module": "@jupyter-widgets/controls",
            "_model_module_version": "1.5.0",
            "value": 2298,
            "_view_count": null,
            "_view_module_version": "1.5.0",
            "orientation": "horizontal",
            "min": 0,
            "description_tooltip": null,
            "_model_module": "@jupyter-widgets/controls",
            "layout": "IPY_MODEL_7e187b9f172e4afa832a1b861a3d1748"
          }
        },
        "f2561d34b2f9494dba2d403cb63c8ff2": {
          "model_module": "@jupyter-widgets/controls",
          "model_name": "HTMLModel",
          "model_module_version": "1.5.0",
          "state": {
            "_view_name": "HTMLView",
            "style": "IPY_MODEL_7cddafda9da645a282a26e79d4fb7d73",
            "_dom_classes": [],
            "description": "",
            "_model_name": "HTMLModel",
            "placeholder": "​",
            "_view_module": "@jupyter-widgets/controls",
            "_model_module_version": "1.5.0",
            "value": " 2298/2298 [04:19&lt;00:00,  9.87it/s]",
            "_view_count": null,
            "_view_module_version": "1.5.0",
            "description_tooltip": null,
            "_model_module": "@jupyter-widgets/controls",
            "layout": "IPY_MODEL_c25a81016ec34ad9a1cae8865b3bf468"
          }
        },
        "d25fcfa55c2e4ddbbe890f9d9bbe040d": {
          "model_module": "@jupyter-widgets/controls",
          "model_name": "DescriptionStyleModel",
          "model_module_version": "1.5.0",
          "state": {
            "_view_name": "StyleView",
            "_model_name": "DescriptionStyleModel",
            "description_width": "",
            "_view_module": "@jupyter-widgets/base",
            "_model_module_version": "1.5.0",
            "_view_count": null,
            "_view_module_version": "1.2.0",
            "_model_module": "@jupyter-widgets/controls"
          }
        },
        "e3a391b3c688409ebb675c53f2d5eff0": {
          "model_module": "@jupyter-widgets/base",
          "model_name": "LayoutModel",
          "model_module_version": "1.2.0",
          "state": {
            "_view_name": "LayoutView",
            "grid_template_rows": null,
            "right": null,
            "justify_content": null,
            "_view_module": "@jupyter-widgets/base",
            "overflow": null,
            "_model_module_version": "1.2.0",
            "_view_count": null,
            "flex_flow": null,
            "width": null,
            "min_width": null,
            "border": null,
            "align_items": null,
            "bottom": null,
            "_model_module": "@jupyter-widgets/base",
            "top": null,
            "grid_column": null,
            "overflow_y": null,
            "overflow_x": null,
            "grid_auto_flow": null,
            "grid_area": null,
            "grid_template_columns": null,
            "flex": null,
            "_model_name": "LayoutModel",
            "justify_items": null,
            "grid_row": null,
            "max_height": null,
            "align_content": null,
            "visibility": null,
            "align_self": null,
            "height": null,
            "min_height": null,
            "padding": null,
            "grid_auto_rows": null,
            "grid_gap": null,
            "max_width": null,
            "order": null,
            "_view_module_version": "1.2.0",
            "grid_template_areas": null,
            "object_position": null,
            "object_fit": null,
            "grid_auto_columns": null,
            "margin": null,
            "display": null,
            "left": null
          }
        },
        "0bf663c913a04d46ad609a391f50ddfd": {
          "model_module": "@jupyter-widgets/controls",
          "model_name": "ProgressStyleModel",
          "model_module_version": "1.5.0",
          "state": {
            "_view_name": "StyleView",
            "_model_name": "ProgressStyleModel",
            "description_width": "",
            "_view_module": "@jupyter-widgets/base",
            "_model_module_version": "1.5.0",
            "_view_count": null,
            "_view_module_version": "1.2.0",
            "bar_color": null,
            "_model_module": "@jupyter-widgets/controls"
          }
        },
        "7e187b9f172e4afa832a1b861a3d1748": {
          "model_module": "@jupyter-widgets/base",
          "model_name": "LayoutModel",
          "model_module_version": "1.2.0",
          "state": {
            "_view_name": "LayoutView",
            "grid_template_rows": null,
            "right": null,
            "justify_content": null,
            "_view_module": "@jupyter-widgets/base",
            "overflow": null,
            "_model_module_version": "1.2.0",
            "_view_count": null,
            "flex_flow": null,
            "width": null,
            "min_width": null,
            "border": null,
            "align_items": null,
            "bottom": null,
            "_model_module": "@jupyter-widgets/base",
            "top": null,
            "grid_column": null,
            "overflow_y": null,
            "overflow_x": null,
            "grid_auto_flow": null,
            "grid_area": null,
            "grid_template_columns": null,
            "flex": null,
            "_model_name": "LayoutModel",
            "justify_items": null,
            "grid_row": null,
            "max_height": null,
            "align_content": null,
            "visibility": null,
            "align_self": null,
            "height": null,
            "min_height": null,
            "padding": null,
            "grid_auto_rows": null,
            "grid_gap": null,
            "max_width": null,
            "order": null,
            "_view_module_version": "1.2.0",
            "grid_template_areas": null,
            "object_position": null,
            "object_fit": null,
            "grid_auto_columns": null,
            "margin": null,
            "display": null,
            "left": null
          }
        },
        "7cddafda9da645a282a26e79d4fb7d73": {
          "model_module": "@jupyter-widgets/controls",
          "model_name": "DescriptionStyleModel",
          "model_module_version": "1.5.0",
          "state": {
            "_view_name": "StyleView",
            "_model_name": "DescriptionStyleModel",
            "description_width": "",
            "_view_module": "@jupyter-widgets/base",
            "_model_module_version": "1.5.0",
            "_view_count": null,
            "_view_module_version": "1.2.0",
            "_model_module": "@jupyter-widgets/controls"
          }
        },
        "c25a81016ec34ad9a1cae8865b3bf468": {
          "model_module": "@jupyter-widgets/base",
          "model_name": "LayoutModel",
          "model_module_version": "1.2.0",
          "state": {
            "_view_name": "LayoutView",
            "grid_template_rows": null,
            "right": null,
            "justify_content": null,
            "_view_module": "@jupyter-widgets/base",
            "overflow": null,
            "_model_module_version": "1.2.0",
            "_view_count": null,
            "flex_flow": null,
            "width": null,
            "min_width": null,
            "border": null,
            "align_items": null,
            "bottom": null,
            "_model_module": "@jupyter-widgets/base",
            "top": null,
            "grid_column": null,
            "overflow_y": null,
            "overflow_x": null,
            "grid_auto_flow": null,
            "grid_area": null,
            "grid_template_columns": null,
            "flex": null,
            "_model_name": "LayoutModel",
            "justify_items": null,
            "grid_row": null,
            "max_height": null,
            "align_content": null,
            "visibility": null,
            "align_self": null,
            "height": null,
            "min_height": null,
            "padding": null,
            "grid_auto_rows": null,
            "grid_gap": null,
            "max_width": null,
            "order": null,
            "_view_module_version": "1.2.0",
            "grid_template_areas": null,
            "object_position": null,
            "object_fit": null,
            "grid_auto_columns": null,
            "margin": null,
            "display": null,
            "left": null
          }
        },
        "de8a4eb037b74613bcd9fe446141277e": {
          "model_module": "@jupyter-widgets/controls",
          "model_name": "HBoxModel",
          "model_module_version": "1.5.0",
          "state": {
            "_view_name": "HBoxView",
            "_dom_classes": [],
            "_model_name": "HBoxModel",
            "_view_module": "@jupyter-widgets/controls",
            "_model_module_version": "1.5.0",
            "_view_count": null,
            "_view_module_version": "1.5.0",
            "box_style": "",
            "layout": "IPY_MODEL_8c5594c994a149b889fc80a474bdedf4",
            "_model_module": "@jupyter-widgets/controls",
            "children": [
              "IPY_MODEL_b8493fdfe2224349a656f6b9aae87852",
              "IPY_MODEL_b46f7f53e66845a0b5b744aa6220b4cc",
              "IPY_MODEL_65686409a04a46b9ab8c8852bf271dc8"
            ]
          }
        },
        "8c5594c994a149b889fc80a474bdedf4": {
          "model_module": "@jupyter-widgets/base",
          "model_name": "LayoutModel",
          "model_module_version": "1.2.0",
          "state": {
            "_view_name": "LayoutView",
            "grid_template_rows": null,
            "right": null,
            "justify_content": null,
            "_view_module": "@jupyter-widgets/base",
            "overflow": null,
            "_model_module_version": "1.2.0",
            "_view_count": null,
            "flex_flow": null,
            "width": null,
            "min_width": null,
            "border": null,
            "align_items": null,
            "bottom": null,
            "_model_module": "@jupyter-widgets/base",
            "top": null,
            "grid_column": null,
            "overflow_y": null,
            "overflow_x": null,
            "grid_auto_flow": null,
            "grid_area": null,
            "grid_template_columns": null,
            "flex": null,
            "_model_name": "LayoutModel",
            "justify_items": null,
            "grid_row": null,
            "max_height": null,
            "align_content": null,
            "visibility": null,
            "align_self": null,
            "height": null,
            "min_height": null,
            "padding": null,
            "grid_auto_rows": null,
            "grid_gap": null,
            "max_width": null,
            "order": null,
            "_view_module_version": "1.2.0",
            "grid_template_areas": null,
            "object_position": null,
            "object_fit": null,
            "grid_auto_columns": null,
            "margin": null,
            "display": null,
            "left": null
          }
        },
        "b8493fdfe2224349a656f6b9aae87852": {
          "model_module": "@jupyter-widgets/controls",
          "model_name": "HTMLModel",
          "model_module_version": "1.5.0",
          "state": {
            "_view_name": "HTMLView",
            "style": "IPY_MODEL_7280cdfcad0f40879883e97c82d4d086",
            "_dom_classes": [],
            "description": "",
            "_model_name": "HTMLModel",
            "placeholder": "​",
            "_view_module": "@jupyter-widgets/controls",
            "_model_module_version": "1.5.0",
            "value": "100%",
            "_view_count": null,
            "_view_module_version": "1.5.0",
            "description_tooltip": null,
            "_model_module": "@jupyter-widgets/controls",
            "layout": "IPY_MODEL_a6c6b5ad65d34e8f9b14e869db5f4ed5"
          }
        },
        "b46f7f53e66845a0b5b744aa6220b4cc": {
          "model_module": "@jupyter-widgets/controls",
          "model_name": "FloatProgressModel",
          "model_module_version": "1.5.0",
          "state": {
            "_view_name": "ProgressView",
            "style": "IPY_MODEL_186be79f31cd4190b984dac4ab501853",
            "_dom_classes": [],
            "description": "",
            "_model_name": "FloatProgressModel",
            "bar_style": "success",
            "max": 9192,
            "_view_module": "@jupyter-widgets/controls",
            "_model_module_version": "1.5.0",
            "value": 9192,
            "_view_count": null,
            "_view_module_version": "1.5.0",
            "orientation": "horizontal",
            "min": 0,
            "description_tooltip": null,
            "_model_module": "@jupyter-widgets/controls",
            "layout": "IPY_MODEL_41e38fbdba88452386b2e87f67fd179f"
          }
        },
        "65686409a04a46b9ab8c8852bf271dc8": {
          "model_module": "@jupyter-widgets/controls",
          "model_name": "HTMLModel",
          "model_module_version": "1.5.0",
          "state": {
            "_view_name": "HTMLView",
            "style": "IPY_MODEL_6a37957b7259401a979b7813e2c58242",
            "_dom_classes": [],
            "description": "",
            "_model_name": "HTMLModel",
            "placeholder": "​",
            "_view_module": "@jupyter-widgets/controls",
            "_model_module_version": "1.5.0",
            "value": " 9192/9192 [17:04&lt;00:00, 11.46it/s]",
            "_view_count": null,
            "_view_module_version": "1.5.0",
            "description_tooltip": null,
            "_model_module": "@jupyter-widgets/controls",
            "layout": "IPY_MODEL_7a9cd49ac9d64c62a17123ef7102d30f"
          }
        },
        "7280cdfcad0f40879883e97c82d4d086": {
          "model_module": "@jupyter-widgets/controls",
          "model_name": "DescriptionStyleModel",
          "model_module_version": "1.5.0",
          "state": {
            "_view_name": "StyleView",
            "_model_name": "DescriptionStyleModel",
            "description_width": "",
            "_view_module": "@jupyter-widgets/base",
            "_model_module_version": "1.5.0",
            "_view_count": null,
            "_view_module_version": "1.2.0",
            "_model_module": "@jupyter-widgets/controls"
          }
        },
        "a6c6b5ad65d34e8f9b14e869db5f4ed5": {
          "model_module": "@jupyter-widgets/base",
          "model_name": "LayoutModel",
          "model_module_version": "1.2.0",
          "state": {
            "_view_name": "LayoutView",
            "grid_template_rows": null,
            "right": null,
            "justify_content": null,
            "_view_module": "@jupyter-widgets/base",
            "overflow": null,
            "_model_module_version": "1.2.0",
            "_view_count": null,
            "flex_flow": null,
            "width": null,
            "min_width": null,
            "border": null,
            "align_items": null,
            "bottom": null,
            "_model_module": "@jupyter-widgets/base",
            "top": null,
            "grid_column": null,
            "overflow_y": null,
            "overflow_x": null,
            "grid_auto_flow": null,
            "grid_area": null,
            "grid_template_columns": null,
            "flex": null,
            "_model_name": "LayoutModel",
            "justify_items": null,
            "grid_row": null,
            "max_height": null,
            "align_content": null,
            "visibility": null,
            "align_self": null,
            "height": null,
            "min_height": null,
            "padding": null,
            "grid_auto_rows": null,
            "grid_gap": null,
            "max_width": null,
            "order": null,
            "_view_module_version": "1.2.0",
            "grid_template_areas": null,
            "object_position": null,
            "object_fit": null,
            "grid_auto_columns": null,
            "margin": null,
            "display": null,
            "left": null
          }
        },
        "186be79f31cd4190b984dac4ab501853": {
          "model_module": "@jupyter-widgets/controls",
          "model_name": "ProgressStyleModel",
          "model_module_version": "1.5.0",
          "state": {
            "_view_name": "StyleView",
            "_model_name": "ProgressStyleModel",
            "description_width": "",
            "_view_module": "@jupyter-widgets/base",
            "_model_module_version": "1.5.0",
            "_view_count": null,
            "_view_module_version": "1.2.0",
            "bar_color": null,
            "_model_module": "@jupyter-widgets/controls"
          }
        },
        "41e38fbdba88452386b2e87f67fd179f": {
          "model_module": "@jupyter-widgets/base",
          "model_name": "LayoutModel",
          "model_module_version": "1.2.0",
          "state": {
            "_view_name": "LayoutView",
            "grid_template_rows": null,
            "right": null,
            "justify_content": null,
            "_view_module": "@jupyter-widgets/base",
            "overflow": null,
            "_model_module_version": "1.2.0",
            "_view_count": null,
            "flex_flow": null,
            "width": null,
            "min_width": null,
            "border": null,
            "align_items": null,
            "bottom": null,
            "_model_module": "@jupyter-widgets/base",
            "top": null,
            "grid_column": null,
            "overflow_y": null,
            "overflow_x": null,
            "grid_auto_flow": null,
            "grid_area": null,
            "grid_template_columns": null,
            "flex": null,
            "_model_name": "LayoutModel",
            "justify_items": null,
            "grid_row": null,
            "max_height": null,
            "align_content": null,
            "visibility": null,
            "align_self": null,
            "height": null,
            "min_height": null,
            "padding": null,
            "grid_auto_rows": null,
            "grid_gap": null,
            "max_width": null,
            "order": null,
            "_view_module_version": "1.2.0",
            "grid_template_areas": null,
            "object_position": null,
            "object_fit": null,
            "grid_auto_columns": null,
            "margin": null,
            "display": null,
            "left": null
          }
        },
        "6a37957b7259401a979b7813e2c58242": {
          "model_module": "@jupyter-widgets/controls",
          "model_name": "DescriptionStyleModel",
          "model_module_version": "1.5.0",
          "state": {
            "_view_name": "StyleView",
            "_model_name": "DescriptionStyleModel",
            "description_width": "",
            "_view_module": "@jupyter-widgets/base",
            "_model_module_version": "1.5.0",
            "_view_count": null,
            "_view_module_version": "1.2.0",
            "_model_module": "@jupyter-widgets/controls"
          }
        },
        "7a9cd49ac9d64c62a17123ef7102d30f": {
          "model_module": "@jupyter-widgets/base",
          "model_name": "LayoutModel",
          "model_module_version": "1.2.0",
          "state": {
            "_view_name": "LayoutView",
            "grid_template_rows": null,
            "right": null,
            "justify_content": null,
            "_view_module": "@jupyter-widgets/base",
            "overflow": null,
            "_model_module_version": "1.2.0",
            "_view_count": null,
            "flex_flow": null,
            "width": null,
            "min_width": null,
            "border": null,
            "align_items": null,
            "bottom": null,
            "_model_module": "@jupyter-widgets/base",
            "top": null,
            "grid_column": null,
            "overflow_y": null,
            "overflow_x": null,
            "grid_auto_flow": null,
            "grid_area": null,
            "grid_template_columns": null,
            "flex": null,
            "_model_name": "LayoutModel",
            "justify_items": null,
            "grid_row": null,
            "max_height": null,
            "align_content": null,
            "visibility": null,
            "align_self": null,
            "height": null,
            "min_height": null,
            "padding": null,
            "grid_auto_rows": null,
            "grid_gap": null,
            "max_width": null,
            "order": null,
            "_view_module_version": "1.2.0",
            "grid_template_areas": null,
            "object_position": null,
            "object_fit": null,
            "grid_auto_columns": null,
            "margin": null,
            "display": null,
            "left": null
          }
        }
      }
    }
  },
  "cells": [
    {
      "cell_type": "code",
      "metadata": {
        "id": "b34WVUys3YY6",
        "colab": {
          "base_uri": "https://localhost:8080/"
        },
        "outputId": "aef5b344-d24e-4a6e-a9f1-13d90b014f2f"
      },
      "source": [
        "!python -m spacy download en_core_web_lg"
      ],
      "execution_count": null,
      "outputs": [
        {
          "output_type": "stream",
          "text": [
            "/usr/bin/python3: No module named -q\n"
          ],
          "name": "stdout"
        }
      ]
    },
    {
      "cell_type": "code",
      "metadata": {
        "colab": {
          "base_uri": "https://localhost:8080/"
        },
        "id": "cNC_UYh7olC3",
        "outputId": "011b56bd-32b4-488e-9ea8-f2ea642815f5"
      },
      "source": [
        "!pip install -q transformers  rouge-score"
      ],
      "execution_count": null,
      "outputs": [
        {
          "output_type": "stream",
          "text": [
            "\u001b[K     |████████████████████████████████| 2.6 MB 16.6 MB/s \n",
            "\u001b[K     |████████████████████████████████| 3.3 MB 47.3 MB/s \n",
            "\u001b[K     |████████████████████████████████| 636 kB 56.8 MB/s \n",
            "\u001b[K     |████████████████████████████████| 895 kB 52.9 MB/s \n",
            "\u001b[?25h"
          ],
          "name": "stdout"
        }
      ]
    },
    {
      "cell_type": "code",
      "metadata": {
        "id": "zPcisubJopw6"
      },
      "source": [
        "import tensorflow_datasets as tfds \n",
        "import matplotlib.pyplot as plt\n",
        "import pandas as pd\n",
        "import numpy as np\n",
        "import spacy\n",
        "from tqdm.notebook import tqdm\n",
        "\n",
        "import tensorflow_hub as hub\n",
        "from tensorflow import keras \n",
        "import tensorflow as tf\n",
        "from IPython.display import Image \n",
        "import matplotlib.pyplot as plt\n",
        "\n",
        "import os \n",
        "nlp = spacy.load('en_core_web_sm')\n",
        "os.makedirs(\"data\", exist_ok=True)\n",
        "sum_dir = \"drive/MyDrive/mlexperiments/extractivesummarization/\""
      ],
      "execution_count": null,
      "outputs": []
    },
    {
      "cell_type": "markdown",
      "metadata": {
        "id": "YSRnIXA_6gea"
      },
      "source": [
        "## CNN/Daily Mail Dataset\n",
        "\n",
        " - The CNN/DailyMail dataset contains 287K documents, each with 3-4 highlights that summarize the contents of the article. \n",
        "- Load preprocessed version of documents and highlights "
      ]
    },
    {
      "cell_type": "code",
      "metadata": {
        "id": "pf5AFoawy6t9"
      },
      "source": [
        "import tensorflow_datasets as tfds\n",
        "import pandas as pd\n",
        "import pickle \n",
        "\n",
        "def load_pickle(file_path):\n",
        "  with open(file_path, 'rb') as handle:\n",
        "    return pickle.load(handle)\n"
      ],
      "execution_count": null,
      "outputs": []
    },
    {
      "cell_type": "code",
      "metadata": {
        "colab": {
          "base_uri": "https://localhost:8080/"
        },
        "id": "28ROVBSnpoK6",
        "outputId": "2fecf6b9-adcc-4cc0-ff52-979c0908d078"
      },
      "source": [
        "!ls drive/MyDrive/mlexperiments/extractivesummarization/data/test\n"
      ],
      "execution_count": null,
      "outputs": [
        {
          "output_type": "stream",
          "text": [
            "doc_dict.pickle  doc_sents.pickle  sents_dict.pickle  test.json\n"
          ],
          "name": "stdout"
        }
      ]
    },
    {
      "cell_type": "code",
      "metadata": {
        "id": "RSXS6TSJ2n--"
      },
      "source": [
        "cnn_df = pd.read_json(sum_dir + \"data/test/test.json\") "
      ],
      "execution_count": null,
      "outputs": []
    },
    {
      "cell_type": "code",
      "metadata": {
        "id": "58gf3TEDIFRo"
      },
      "source": [
        ""
      ],
      "execution_count": null,
      "outputs": []
    },
    {
      "cell_type": "markdown",
      "metadata": {
        "id": "Uw00L3hGIXu6"
      },
      "source": [
        "## Construct Dictionaries (Spacy)\n",
        "\n",
        "- Dictionary of documents - id -> text, or id -> embedding \n",
        "- Dictionary of sentences - id -> (docid, text), or id -> (docid, textembedding) \n",
        "- Dictionary of document embeddings .. as average of each each sentence embedding.\n",
        "\n"
      ]
    },
    {
      "cell_type": "code",
      "metadata": {
        "id": "WfUlCV1SL0df",
        "colab": {
          "base_uri": "https://localhost:8080/"
        },
        "outputId": "b131158b-891c-4b8c-fff2-371b59bb6793"
      },
      "source": [
        "from sklearn.model_selection import train_test_split\n",
        "\n",
        "train_df, test_df = train_test_split( cnn_df, test_size=0.2, random_state=42)\n",
        "train_df.shape, test_df.shape"
      ],
      "execution_count": null,
      "outputs": [
        {
          "output_type": "execute_result",
          "data": {
            "text/plain": [
              "((9192, 2), (2298, 2))"
            ]
          },
          "metadata": {
            "tags": []
          },
          "execution_count": 7
        }
      ]
    },
    {
      "cell_type": "code",
      "metadata": {
        "id": "C7e7ZbHsM5Dk"
      },
      "source": [
        "def get_dicts(df, folder=\"test\"):   \n",
        "  sents_dict = {}\n",
        "  doc_dict = { i: {\"article\": df.article[i], \"highlight\": df.highlights[i]} for i in df.index }\n",
        "    \n",
        "  doc_sents = {}\n",
        "  sents_list = []\n",
        "\n",
        "  i = 0\n",
        "  min_sent_length = 14\n",
        "  for k in tqdm(doc_dict.keys()):\n",
        "    article = doc_dict[k][\"article\"]  \n",
        "    sents = nlp(article).sents\n",
        "    doc_sent_ids = []\n",
        "    sent_text = []\n",
        "    for sent in sents:\n",
        "      if (len(sent)) > min_sent_length:\n",
        "        sents_dict[i] = {\"docid\":k, \"text\": str(sent)} \n",
        "        sents_list.append({\"sentid\":i, \"docid\":k, \"text\": str(sent) })\n",
        "        doc_sent_ids.append(i)\n",
        "        sent_text.append(str(sent))\n",
        "        i += 1  \n",
        "        \n",
        "    doc_sents[k] = doc_sent_ids\n",
        "\n",
        "  # save dicts\n",
        "  return doc_dict, sents_dict, doc_sents , sents_list"
      ],
      "execution_count": null,
      "outputs": []
    },
    {
      "cell_type": "code",
      "metadata": {
        "colab": {
          "base_uri": "https://localhost:8080/",
          "height": 49,
          "referenced_widgets": [
            "03044329ecbd452ab4cecdd6752dcb43",
            "ceac3ddeee41458badc0c3db106a6846",
            "1fa80acc148a429d9d08f60f40e8654b",
            "173207cf42be4ae4927deb8339a93bbc",
            "f2561d34b2f9494dba2d403cb63c8ff2",
            "d25fcfa55c2e4ddbbe890f9d9bbe040d",
            "e3a391b3c688409ebb675c53f2d5eff0",
            "0bf663c913a04d46ad609a391f50ddfd",
            "7e187b9f172e4afa832a1b861a3d1748",
            "7cddafda9da645a282a26e79d4fb7d73",
            "c25a81016ec34ad9a1cae8865b3bf468"
          ]
        },
        "id": "boPwLe0ByUVG",
        "outputId": "22c91303-a4e3-40be-d6ce-77dee8002cb2"
      },
      "source": [
        "test_doc_dict, test_sents_dict, test_doc_sents, test_sents_list = get_dicts(test_df)"
      ],
      "execution_count": null,
      "outputs": [
        {
          "output_type": "display_data",
          "data": {
            "application/vnd.jupyter.widget-view+json": {
              "model_id": "03044329ecbd452ab4cecdd6752dcb43",
              "version_minor": 0,
              "version_major": 2
            },
            "text/plain": [
              "  0%|          | 0/2298 [00:00<?, ?it/s]"
            ]
          },
          "metadata": {
            "tags": []
          }
        }
      ]
    },
    {
      "cell_type": "code",
      "metadata": {
        "colab": {
          "base_uri": "https://localhost:8080/",
          "height": 49,
          "referenced_widgets": [
            "de8a4eb037b74613bcd9fe446141277e",
            "8c5594c994a149b889fc80a474bdedf4",
            "b8493fdfe2224349a656f6b9aae87852",
            "b46f7f53e66845a0b5b744aa6220b4cc",
            "65686409a04a46b9ab8c8852bf271dc8",
            "7280cdfcad0f40879883e97c82d4d086",
            "a6c6b5ad65d34e8f9b14e869db5f4ed5",
            "186be79f31cd4190b984dac4ab501853",
            "41e38fbdba88452386b2e87f67fd179f",
            "6a37957b7259401a979b7813e2c58242",
            "7a9cd49ac9d64c62a17123ef7102d30f"
          ]
        },
        "id": "E0fAjcV0w1a7",
        "outputId": "9028c68d-ebc9-42b6-cab4-4be9f79c2f7e"
      },
      "source": [
        "train_doc_dict, train_sents_dict, train_doc_sents, train_sents_list = get_dicts(train_df)"
      ],
      "execution_count": null,
      "outputs": [
        {
          "output_type": "display_data",
          "data": {
            "application/vnd.jupyter.widget-view+json": {
              "model_id": "de8a4eb037b74613bcd9fe446141277e",
              "version_minor": 0,
              "version_major": 2
            },
            "text/plain": [
              "  0%|          | 0/9192 [00:00<?, ?it/s]"
            ]
          },
          "metadata": {
            "tags": []
          }
        }
      ]
    },
    {
      "cell_type": "code",
      "metadata": {
        "id": "Kd8-8QxkF7rj"
      },
      "source": [
        "from rouge_score import rouge_scorer \n",
        "scorer = rouge_scorer.RougeScorer(['rouge1', 'rougeL'], use_stemmer=True)\n",
        "\n",
        "def get_rougue_score(text, highlights, metric=\"rougeL\"):\n",
        "  max_score = 0\n",
        "  for h_text in highlights:\n",
        "    score =  scorer.score(text, h_text)[metric].fmeasure\n",
        "    # print(score, text, \"\\n \\t\" , h_text)\n",
        "    if score > max_score:\n",
        "      max_score = score \n",
        "  return max_score \n",
        "\n",
        "\n",
        "def get_label(sent, doc_dict,  score_threshold = 0.55):\n",
        "  sent_id, doc_id, text = sent[\"sentid\"], sent[\"docid\"], sent[\"text\"]  \n",
        "  highlights = doc_dict[doc_id][\"highlight\"].split(\"\\n\")\n",
        "  doc = doc_dict[doc_id][\"article\"]\n",
        "\n",
        "  label_score = get_rougue_score(text, highlights) \n",
        "  # Normalize label to 0/1 based on rogue score threshold\n",
        "  label_score = 0 if label_score < score_threshold else 1 \n",
        "  return (text, doc, label_score)\n",
        "  "
      ],
      "execution_count": null,
      "outputs": []
    },
    {
      "cell_type": "code",
      "metadata": {
        "id": "wvp0pYWIt_Ff"
      },
      "source": [
        "batch_size = 32\n",
        "\n",
        "def train_generator():\n",
        "    for sent in train_sents_list:\n",
        "      x1, x2, y = get_label(sent, train_doc_dict)\n",
        "      yield {\"sentence\": x1, \"document\": x2}, y\n",
        "\n",
        "def test_generator():\n",
        "    for sent in test_sents_list:\n",
        "      x1, x2, y = get_label(sent, test_doc_dict)\n",
        "      yield {\"sentence\": x1, \"document\": x2}, y\n",
        "\n",
        "auto = tf.data.AUTOTUNE"
      ],
      "execution_count": null,
      "outputs": []
    },
    {
      "cell_type": "code",
      "metadata": {
        "id": "d8ikY-DMZN9k"
      },
      "source": [
        "train_ds = tf.data.Dataset.from_generator(train_generator, \n",
        "                                          output_signature=({\"sentence\": tf.TensorSpec(shape=(None), dtype=tf.string, name=\"sentence\"), \n",
        "                                                             \"document\": tf.TensorSpec(shape=(None), dtype=tf.string, name=\"document\")}, \n",
        "                                                           tf.TensorSpec(shape=(None), dtype=tf.int64, name=\"label\"))\n",
        "                                          )\n",
        "train_ds = train_ds.batch(batch_size).prefetch(auto)\n"
      ],
      "execution_count": null,
      "outputs": []
    },
    {
      "cell_type": "code",
      "metadata": {
        "id": "9p5bE80dzsnu"
      },
      "source": [
        "# train_ds = tf.data.Dataset.from_generator(train_generator, output_types=({\"sentence\": tf.string, \"document\": tf.string}, tf.int64))\n",
        "# train_ds = train_ds.batch(batch_size).prefetch(auto)\n"
      ],
      "execution_count": null,
      "outputs": []
    },
    {
      "cell_type": "code",
      "metadata": {
        "id": "RUYePyCBztMq"
      },
      "source": [
        "val_ds = tf.data.Dataset.from_generator(test_generator,  output_signature=({\"sentence\": tf.TensorSpec(shape=(None), dtype=tf.string, name=\"sentence\"), \n",
        "                                                             \"document\": tf.TensorSpec(shape=(None), dtype=tf.string, name=\"document\")}, \n",
        "                                                           tf.TensorSpec(shape=(None), dtype=tf.int64, name=\"label\")),\n",
        "                                         \n",
        "                                          )\n",
        "val_ds = val_ds.batch(batch_size).prefetch(auto)"
      ],
      "execution_count": null,
      "outputs": []
    },
    {
      "cell_type": "code",
      "metadata": {
        "colab": {
          "base_uri": "https://localhost:8080/"
        },
        "id": "ms0XT6vOZ_UZ",
        "outputId": "54740521-2a74-4692-80e8-abc57e3cb92d"
      },
      "source": [
        "for x,y in train_ds.take(1):\n",
        "  print(x)"
      ],
      "execution_count": null,
      "outputs": [
        {
          "output_type": "stream",
          "text": [
            "{'sentence': <tf.Tensor: shape=(32,), dtype=string, numpy=\n",
            "array([b\"A dog breeder and her husband have been jailed for animal cruelty after their animals were found in the 'worst conditions ever seen'.\",\n",
            "       b'Margaret and Gary Mazan from Bradford, West Yorkshire, had their 14 Red Setters seized by RSPCA inspectors after the animals were discovered in filthy cages in a garden shed.',\n",
            "       b'The court heard how the animals had matted fur, were dehydrated and had not been provided with a suitable diet.',\n",
            "       b'Margaret Mazan (pictured) and her husband Gary were found guilty of animal cruelty after their 14 Red Setters were found in appalling conditions .',\n",
            "       b'Sentenced: Margaret (left) and Gary Mazan (right) were jailed for 26 weeks and given a lifetime ban from owning or keeping pets, which they cannot appeal for 25 years .',\n",
            "       b'Three of the fully grown dogs were found by inspectors crammed in puppy cages and the majority were kept in a squalid garden shed.',\n",
            "       b'Magistrates heard the couple caused unnecessary suffering to some of the dogs by failing to seek veterinary care for their eyes and injuries to their tails.',\n",
            "       b\"Mrs Mazan, 53, who was said to have shown and bred setters for more than 10 years, chose not to give evidence at Bradford and Keighley Magistrates' Court during the two-day trial.\",\n",
            "       b'Her husband Gary, 51, who is a long-distance lorry driver, claimed it was Mrs Mazan who had sole responsibility for the dogs.',\n",
            "       b': The animals were found with matted fur and inside cramped, filthy cages inside a garden shed .',\n",
            "       b\"RSPCA inspectors discovered the animals in some of the 'worst conditions' they had ever seen .\",\n",
            "       b\"Mrs Mazan, who was said to have shown and bred setters for more than 10 years, chose not to give evidence at Bradford and Keighley Magistrates' Court during the two-day trial .\",\n",
            "       b\"The animals had been kept at the family's home since they moved from Leeds to Bradford in February 2013.\",\n",
            "       b'A month after the move the RSPCA served a warning notice due to the conditions the dogs were being kept in, which had been adhered to by the time they visited again in April 2013.',\n",
            "       b'But concerns over the welfare of the animals were raised by a dog warden after they were refused access to the property and called the RSPCA.',\n",
            "       b'Emma Ellis, an RSPCA inspector for Bradford who attended the scene and helped to seize the animals, said it was the worst conditions she has seen in her 12 years as an inspector.',\n",
            "       b\"She said: 'To see 12 dogs living in a small shed, with three fully grown setters living in a puppy cage is horrific. '\",\n",
            "       b\"They could not sit down or turn around and there fur was matted, covered in urine and faeces. '\",\n",
            "       b'When the shed was opened, the smell literally hit you and it was a small like I had never experienced before.',\n",
            "       b'The animals had been kept at the Bradford home since the family moved from Leeds in February 2013 .',\n",
            "       b\": The couple were said to have caused unnecessary suffering to the dogs as they failed to seek veterinary care for their eyes and injuries to their tails (pictured) '\",\n",
            "       b\"To keep animals in these conditions is unacceptable for anyone, let a alone a dog breeder.'\",\n",
            "       b\"The animals are now currently under the care of the RSPCA, after the charity demanded ownership of all the Mazans' pets, including an additional dog, called Clever.\",\n",
            "       b\"The dog, which belonged to the family's daughter who was away at university, had been chipped in Mrs Mazan's name and magistrates decided to transfer custody of the animal, alongside the other 14 dogs, to the RSPCA.\",\n",
            "       b'Dingle Clark, prosecuting on behalf of the RSPCA, told the court that boarding costs for the dogs since they were seized had reached \\xc2\\xa348,000, with an additional \\xc2\\xa37,000 in vets fees.',\n",
            "       b'Three of the fully grown dogs were found by RSPCA inspectors crammed in puppy cages and',\n",
            "       b\"Sentencing the pair to 26 weeks in jail, Allie Coward, chairman of the bench, said: 'We have considered all the evidence, and this was the most heinous act of cruelty against defenceless animals we have ever seen.'\",\n",
            "       b'An immediate appeal against the sentence was made and a request for bail ahead of any appeal hearing at the Crown Court, but the application for bail was denied by the court.',\n",
            "       b'The pair were also given a lifetime ban against owning or keeping any animal, and told they cannot appeal against the order for at least 25 years.',\n",
            "       b\"Presidents, kings and dukes will gather in Los Angeles this weekend to represent their great nations, but you've probably never heard of them.\",\n",
            "       b'The leaders of places with names like Molossia, Westarctica, Vikesland and Broslavia are coming together at the Anaheim Central Library for MicroCon 2015, which has been dubbed the first North American gathering of micronations.',\n",
            "       b'These self-proclaimed countries print their own stamps, wave their own flags and mint their own money.'],\n",
            "      dtype=object)>, 'document': <tf.Tensor: shape=(32,), dtype=string, numpy=\n",
            "array([b\"A dog breeder and her husband have been jailed for animal cruelty after their animals were found in the 'worst conditions ever seen'. Margaret and Gary Mazan from Bradford, West Yorkshire, had their 14 Red Setters seized by RSPCA inspectors after the animals were discovered in filthy cages in a garden shed. The court heard how the animals had matted fur, were dehydrated and had not been provided with a suitable diet. Cruel: Margaret Mazan (pictured) and her husband Gary were found guilty of animal cruelty after their 14 Red Setters were found in appalling conditions . Sentenced: Margaret (left) and Gary Mazan (right) were jailed for 26 weeks and given a lifetime ban from owning or keeping pets, which they cannot appeal for 25 years . Three of the fully grown dogs were found by inspectors crammed in puppy cages and the majority were kept in a squalid garden shed. Magistrates heard the couple caused unnecessary suffering to some of the dogs by failing to seek veterinary care for their eyes and injuries to their tails. Mrs Mazan, 53, who was said to have shown and bred setters for more than 10 years, chose not to give evidence at Bradford and Keighley Magistrates' Court during the two-day trial. Her husband Gary, 51, who is a long-distance lorry driver, claimed it was Mrs Mazan who had sole responsibility for the dogs. Crammed: The animals were found with matted fur and inside cramped, filthy cages inside a garden shed . Seized: RSPCA inspectors discovered the animals in some of the 'worst conditions' they had ever seen . Owner: Mrs Mazan, who was said to have shown and bred setters for more than 10 years, chose not to give evidence at Bradford and Keighley Magistrates' Court during the two-day trial . The animals had been kept at the family's home since they moved from Leeds to Bradford in February 2013. A month after the move the RSPCA served a warning notice due to the conditions the dogs were being kept in, which had been adhered to by the time they visited again in April 2013. But concerns over the welfare of the animals were raised by a dog warden after they were refused access to the property and called the RSPCA. Emma Ellis, an RSPCA inspector for Bradford who attended the scene and helped to seize the animals, said it was the worst conditions she has seen in her 12 years as an inspector. She said: 'To see 12 dogs living in a small shed, with three fully grown setters living in a puppy cage is horrific. 'They could not sit down or turn around and there fur was matted, covered in urine and faeces. 'When the shed was opened, the smell literally hit you and it was a small like I had never experienced before. I still recall the smell every time I see the photos. Caged: The animals had been kept at the Bradford home since the family moved from Leeds in February 2013 . Matted: The couple were said to have caused unnecessary suffering to the dogs as they failed to seek veterinary care for their eyes and injuries to their tails (pictured) 'To keep animals in these conditions is unacceptable for anyone, let a alone a dog breeder.' The animals are now currently under the care of the RSPCA, after the charity demanded ownership of all the Mazans' pets, including an additional dog, called Clever. The dog, which belonged to the family's daughter who was away at university, had been chipped in Mrs Mazan's name and magistrates decided to transfer custody of the animal, alongside the other 14 dogs, to the RSPCA. Dingle Clark, prosecuting on behalf of the RSPCA, told the court that boarding costs for the dogs since they were seized had reached \\xc2\\xa348,000, with an additional \\xc2\\xa37,000 in vets fees. Filthy: Three of the fully grown dogs were found by RSPCA inspectors crammed in puppy cages and the majority were kept in a squalid garden shed. All animals are now in the charity's care . Sentencing the pair to 26 weeks in jail, Allie Coward, chairman of the bench, said: 'We have considered all the evidence, and this was the most heinous act of cruelty against defenceless animals we have ever seen.' An immediate appeal against the sentence was made and a request for bail ahead of any appeal hearing at the Crown Court, but the application for bail was denied by the court. The pair were also given a lifetime ban against owning or keeping any animal, and told they cannot appeal against the order for at least 25 years.\",\n",
            "       b\"A dog breeder and her husband have been jailed for animal cruelty after their animals were found in the 'worst conditions ever seen'. Margaret and Gary Mazan from Bradford, West Yorkshire, had their 14 Red Setters seized by RSPCA inspectors after the animals were discovered in filthy cages in a garden shed. The court heard how the animals had matted fur, were dehydrated and had not been provided with a suitable diet. Cruel: Margaret Mazan (pictured) and her husband Gary were found guilty of animal cruelty after their 14 Red Setters were found in appalling conditions . Sentenced: Margaret (left) and Gary Mazan (right) were jailed for 26 weeks and given a lifetime ban from owning or keeping pets, which they cannot appeal for 25 years . Three of the fully grown dogs were found by inspectors crammed in puppy cages and the majority were kept in a squalid garden shed. Magistrates heard the couple caused unnecessary suffering to some of the dogs by failing to seek veterinary care for their eyes and injuries to their tails. Mrs Mazan, 53, who was said to have shown and bred setters for more than 10 years, chose not to give evidence at Bradford and Keighley Magistrates' Court during the two-day trial. Her husband Gary, 51, who is a long-distance lorry driver, claimed it was Mrs Mazan who had sole responsibility for the dogs. Crammed: The animals were found with matted fur and inside cramped, filthy cages inside a garden shed . Seized: RSPCA inspectors discovered the animals in some of the 'worst conditions' they had ever seen . Owner: Mrs Mazan, who was said to have shown and bred setters for more than 10 years, chose not to give evidence at Bradford and Keighley Magistrates' Court during the two-day trial . The animals had been kept at the family's home since they moved from Leeds to Bradford in February 2013. A month after the move the RSPCA served a warning notice due to the conditions the dogs were being kept in, which had been adhered to by the time they visited again in April 2013. But concerns over the welfare of the animals were raised by a dog warden after they were refused access to the property and called the RSPCA. Emma Ellis, an RSPCA inspector for Bradford who attended the scene and helped to seize the animals, said it was the worst conditions she has seen in her 12 years as an inspector. She said: 'To see 12 dogs living in a small shed, with three fully grown setters living in a puppy cage is horrific. 'They could not sit down or turn around and there fur was matted, covered in urine and faeces. 'When the shed was opened, the smell literally hit you and it was a small like I had never experienced before. I still recall the smell every time I see the photos. Caged: The animals had been kept at the Bradford home since the family moved from Leeds in February 2013 . Matted: The couple were said to have caused unnecessary suffering to the dogs as they failed to seek veterinary care for their eyes and injuries to their tails (pictured) 'To keep animals in these conditions is unacceptable for anyone, let a alone a dog breeder.' The animals are now currently under the care of the RSPCA, after the charity demanded ownership of all the Mazans' pets, including an additional dog, called Clever. The dog, which belonged to the family's daughter who was away at university, had been chipped in Mrs Mazan's name and magistrates decided to transfer custody of the animal, alongside the other 14 dogs, to the RSPCA. Dingle Clark, prosecuting on behalf of the RSPCA, told the court that boarding costs for the dogs since they were seized had reached \\xc2\\xa348,000, with an additional \\xc2\\xa37,000 in vets fees. Filthy: Three of the fully grown dogs were found by RSPCA inspectors crammed in puppy cages and the majority were kept in a squalid garden shed. All animals are now in the charity's care . Sentencing the pair to 26 weeks in jail, Allie Coward, chairman of the bench, said: 'We have considered all the evidence, and this was the most heinous act of cruelty against defenceless animals we have ever seen.' An immediate appeal against the sentence was made and a request for bail ahead of any appeal hearing at the Crown Court, but the application for bail was denied by the court. The pair were also given a lifetime ban against owning or keeping any animal, and told they cannot appeal against the order for at least 25 years.\",\n",
            "       b\"A dog breeder and her husband have been jailed for animal cruelty after their animals were found in the 'worst conditions ever seen'. Margaret and Gary Mazan from Bradford, West Yorkshire, had their 14 Red Setters seized by RSPCA inspectors after the animals were discovered in filthy cages in a garden shed. The court heard how the animals had matted fur, were dehydrated and had not been provided with a suitable diet. Cruel: Margaret Mazan (pictured) and her husband Gary were found guilty of animal cruelty after their 14 Red Setters were found in appalling conditions . Sentenced: Margaret (left) and Gary Mazan (right) were jailed for 26 weeks and given a lifetime ban from owning or keeping pets, which they cannot appeal for 25 years . Three of the fully grown dogs were found by inspectors crammed in puppy cages and the majority were kept in a squalid garden shed. Magistrates heard the couple caused unnecessary suffering to some of the dogs by failing to seek veterinary care for their eyes and injuries to their tails. Mrs Mazan, 53, who was said to have shown and bred setters for more than 10 years, chose not to give evidence at Bradford and Keighley Magistrates' Court during the two-day trial. Her husband Gary, 51, who is a long-distance lorry driver, claimed it was Mrs Mazan who had sole responsibility for the dogs. Crammed: The animals were found with matted fur and inside cramped, filthy cages inside a garden shed . Seized: RSPCA inspectors discovered the animals in some of the 'worst conditions' they had ever seen . Owner: Mrs Mazan, who was said to have shown and bred setters for more than 10 years, chose not to give evidence at Bradford and Keighley Magistrates' Court during the two-day trial . The animals had been kept at the family's home since they moved from Leeds to Bradford in February 2013. A month after the move the RSPCA served a warning notice due to the conditions the dogs were being kept in, which had been adhered to by the time they visited again in April 2013. But concerns over the welfare of the animals were raised by a dog warden after they were refused access to the property and called the RSPCA. Emma Ellis, an RSPCA inspector for Bradford who attended the scene and helped to seize the animals, said it was the worst conditions she has seen in her 12 years as an inspector. She said: 'To see 12 dogs living in a small shed, with three fully grown setters living in a puppy cage is horrific. 'They could not sit down or turn around and there fur was matted, covered in urine and faeces. 'When the shed was opened, the smell literally hit you and it was a small like I had never experienced before. I still recall the smell every time I see the photos. Caged: The animals had been kept at the Bradford home since the family moved from Leeds in February 2013 . Matted: The couple were said to have caused unnecessary suffering to the dogs as they failed to seek veterinary care for their eyes and injuries to their tails (pictured) 'To keep animals in these conditions is unacceptable for anyone, let a alone a dog breeder.' The animals are now currently under the care of the RSPCA, after the charity demanded ownership of all the Mazans' pets, including an additional dog, called Clever. The dog, which belonged to the family's daughter who was away at university, had been chipped in Mrs Mazan's name and magistrates decided to transfer custody of the animal, alongside the other 14 dogs, to the RSPCA. Dingle Clark, prosecuting on behalf of the RSPCA, told the court that boarding costs for the dogs since they were seized had reached \\xc2\\xa348,000, with an additional \\xc2\\xa37,000 in vets fees. Filthy: Three of the fully grown dogs were found by RSPCA inspectors crammed in puppy cages and the majority were kept in a squalid garden shed. All animals are now in the charity's care . Sentencing the pair to 26 weeks in jail, Allie Coward, chairman of the bench, said: 'We have considered all the evidence, and this was the most heinous act of cruelty against defenceless animals we have ever seen.' An immediate appeal against the sentence was made and a request for bail ahead of any appeal hearing at the Crown Court, but the application for bail was denied by the court. The pair were also given a lifetime ban against owning or keeping any animal, and told they cannot appeal against the order for at least 25 years.\",\n",
            "       b\"A dog breeder and her husband have been jailed for animal cruelty after their animals were found in the 'worst conditions ever seen'. Margaret and Gary Mazan from Bradford, West Yorkshire, had their 14 Red Setters seized by RSPCA inspectors after the animals were discovered in filthy cages in a garden shed. The court heard how the animals had matted fur, were dehydrated and had not been provided with a suitable diet. Cruel: Margaret Mazan (pictured) and her husband Gary were found guilty of animal cruelty after their 14 Red Setters were found in appalling conditions . Sentenced: Margaret (left) and Gary Mazan (right) were jailed for 26 weeks and given a lifetime ban from owning or keeping pets, which they cannot appeal for 25 years . Three of the fully grown dogs were found by inspectors crammed in puppy cages and the majority were kept in a squalid garden shed. Magistrates heard the couple caused unnecessary suffering to some of the dogs by failing to seek veterinary care for their eyes and injuries to their tails. Mrs Mazan, 53, who was said to have shown and bred setters for more than 10 years, chose not to give evidence at Bradford and Keighley Magistrates' Court during the two-day trial. Her husband Gary, 51, who is a long-distance lorry driver, claimed it was Mrs Mazan who had sole responsibility for the dogs. Crammed: The animals were found with matted fur and inside cramped, filthy cages inside a garden shed . Seized: RSPCA inspectors discovered the animals in some of the 'worst conditions' they had ever seen . Owner: Mrs Mazan, who was said to have shown and bred setters for more than 10 years, chose not to give evidence at Bradford and Keighley Magistrates' Court during the two-day trial . The animals had been kept at the family's home since they moved from Leeds to Bradford in February 2013. A month after the move the RSPCA served a warning notice due to the conditions the dogs were being kept in, which had been adhered to by the time they visited again in April 2013. But concerns over the welfare of the animals were raised by a dog warden after they were refused access to the property and called the RSPCA. Emma Ellis, an RSPCA inspector for Bradford who attended the scene and helped to seize the animals, said it was the worst conditions she has seen in her 12 years as an inspector. She said: 'To see 12 dogs living in a small shed, with three fully grown setters living in a puppy cage is horrific. 'They could not sit down or turn around and there fur was matted, covered in urine and faeces. 'When the shed was opened, the smell literally hit you and it was a small like I had never experienced before. I still recall the smell every time I see the photos. Caged: The animals had been kept at the Bradford home since the family moved from Leeds in February 2013 . Matted: The couple were said to have caused unnecessary suffering to the dogs as they failed to seek veterinary care for their eyes and injuries to their tails (pictured) 'To keep animals in these conditions is unacceptable for anyone, let a alone a dog breeder.' The animals are now currently under the care of the RSPCA, after the charity demanded ownership of all the Mazans' pets, including an additional dog, called Clever. The dog, which belonged to the family's daughter who was away at university, had been chipped in Mrs Mazan's name and magistrates decided to transfer custody of the animal, alongside the other 14 dogs, to the RSPCA. Dingle Clark, prosecuting on behalf of the RSPCA, told the court that boarding costs for the dogs since they were seized had reached \\xc2\\xa348,000, with an additional \\xc2\\xa37,000 in vets fees. Filthy: Three of the fully grown dogs were found by RSPCA inspectors crammed in puppy cages and the majority were kept in a squalid garden shed. All animals are now in the charity's care . Sentencing the pair to 26 weeks in jail, Allie Coward, chairman of the bench, said: 'We have considered all the evidence, and this was the most heinous act of cruelty against defenceless animals we have ever seen.' An immediate appeal against the sentence was made and a request for bail ahead of any appeal hearing at the Crown Court, but the application for bail was denied by the court. The pair were also given a lifetime ban against owning or keeping any animal, and told they cannot appeal against the order for at least 25 years.\",\n",
            "       b\"A dog breeder and her husband have been jailed for animal cruelty after their animals were found in the 'worst conditions ever seen'. Margaret and Gary Mazan from Bradford, West Yorkshire, had their 14 Red Setters seized by RSPCA inspectors after the animals were discovered in filthy cages in a garden shed. The court heard how the animals had matted fur, were dehydrated and had not been provided with a suitable diet. Cruel: Margaret Mazan (pictured) and her husband Gary were found guilty of animal cruelty after their 14 Red Setters were found in appalling conditions . Sentenced: Margaret (left) and Gary Mazan (right) were jailed for 26 weeks and given a lifetime ban from owning or keeping pets, which they cannot appeal for 25 years . Three of the fully grown dogs were found by inspectors crammed in puppy cages and the majority were kept in a squalid garden shed. Magistrates heard the couple caused unnecessary suffering to some of the dogs by failing to seek veterinary care for their eyes and injuries to their tails. Mrs Mazan, 53, who was said to have shown and bred setters for more than 10 years, chose not to give evidence at Bradford and Keighley Magistrates' Court during the two-day trial. Her husband Gary, 51, who is a long-distance lorry driver, claimed it was Mrs Mazan who had sole responsibility for the dogs. Crammed: The animals were found with matted fur and inside cramped, filthy cages inside a garden shed . Seized: RSPCA inspectors discovered the animals in some of the 'worst conditions' they had ever seen . Owner: Mrs Mazan, who was said to have shown and bred setters for more than 10 years, chose not to give evidence at Bradford and Keighley Magistrates' Court during the two-day trial . The animals had been kept at the family's home since they moved from Leeds to Bradford in February 2013. A month after the move the RSPCA served a warning notice due to the conditions the dogs were being kept in, which had been adhered to by the time they visited again in April 2013. But concerns over the welfare of the animals were raised by a dog warden after they were refused access to the property and called the RSPCA. Emma Ellis, an RSPCA inspector for Bradford who attended the scene and helped to seize the animals, said it was the worst conditions she has seen in her 12 years as an inspector. She said: 'To see 12 dogs living in a small shed, with three fully grown setters living in a puppy cage is horrific. 'They could not sit down or turn around and there fur was matted, covered in urine and faeces. 'When the shed was opened, the smell literally hit you and it was a small like I had never experienced before. I still recall the smell every time I see the photos. Caged: The animals had been kept at the Bradford home since the family moved from Leeds in February 2013 . Matted: The couple were said to have caused unnecessary suffering to the dogs as they failed to seek veterinary care for their eyes and injuries to their tails (pictured) 'To keep animals in these conditions is unacceptable for anyone, let a alone a dog breeder.' The animals are now currently under the care of the RSPCA, after the charity demanded ownership of all the Mazans' pets, including an additional dog, called Clever. The dog, which belonged to the family's daughter who was away at university, had been chipped in Mrs Mazan's name and magistrates decided to transfer custody of the animal, alongside the other 14 dogs, to the RSPCA. Dingle Clark, prosecuting on behalf of the RSPCA, told the court that boarding costs for the dogs since they were seized had reached \\xc2\\xa348,000, with an additional \\xc2\\xa37,000 in vets fees. Filthy: Three of the fully grown dogs were found by RSPCA inspectors crammed in puppy cages and the majority were kept in a squalid garden shed. All animals are now in the charity's care . Sentencing the pair to 26 weeks in jail, Allie Coward, chairman of the bench, said: 'We have considered all the evidence, and this was the most heinous act of cruelty against defenceless animals we have ever seen.' An immediate appeal against the sentence was made and a request for bail ahead of any appeal hearing at the Crown Court, but the application for bail was denied by the court. The pair were also given a lifetime ban against owning or keeping any animal, and told they cannot appeal against the order for at least 25 years.\",\n",
            "       b\"A dog breeder and her husband have been jailed for animal cruelty after their animals were found in the 'worst conditions ever seen'. Margaret and Gary Mazan from Bradford, West Yorkshire, had their 14 Red Setters seized by RSPCA inspectors after the animals were discovered in filthy cages in a garden shed. The court heard how the animals had matted fur, were dehydrated and had not been provided with a suitable diet. Cruel: Margaret Mazan (pictured) and her husband Gary were found guilty of animal cruelty after their 14 Red Setters were found in appalling conditions . Sentenced: Margaret (left) and Gary Mazan (right) were jailed for 26 weeks and given a lifetime ban from owning or keeping pets, which they cannot appeal for 25 years . Three of the fully grown dogs were found by inspectors crammed in puppy cages and the majority were kept in a squalid garden shed. Magistrates heard the couple caused unnecessary suffering to some of the dogs by failing to seek veterinary care for their eyes and injuries to their tails. Mrs Mazan, 53, who was said to have shown and bred setters for more than 10 years, chose not to give evidence at Bradford and Keighley Magistrates' Court during the two-day trial. Her husband Gary, 51, who is a long-distance lorry driver, claimed it was Mrs Mazan who had sole responsibility for the dogs. Crammed: The animals were found with matted fur and inside cramped, filthy cages inside a garden shed . Seized: RSPCA inspectors discovered the animals in some of the 'worst conditions' they had ever seen . Owner: Mrs Mazan, who was said to have shown and bred setters for more than 10 years, chose not to give evidence at Bradford and Keighley Magistrates' Court during the two-day trial . The animals had been kept at the family's home since they moved from Leeds to Bradford in February 2013. A month after the move the RSPCA served a warning notice due to the conditions the dogs were being kept in, which had been adhered to by the time they visited again in April 2013. But concerns over the welfare of the animals were raised by a dog warden after they were refused access to the property and called the RSPCA. Emma Ellis, an RSPCA inspector for Bradford who attended the scene and helped to seize the animals, said it was the worst conditions she has seen in her 12 years as an inspector. She said: 'To see 12 dogs living in a small shed, with three fully grown setters living in a puppy cage is horrific. 'They could not sit down or turn around and there fur was matted, covered in urine and faeces. 'When the shed was opened, the smell literally hit you and it was a small like I had never experienced before. I still recall the smell every time I see the photos. Caged: The animals had been kept at the Bradford home since the family moved from Leeds in February 2013 . Matted: The couple were said to have caused unnecessary suffering to the dogs as they failed to seek veterinary care for their eyes and injuries to their tails (pictured) 'To keep animals in these conditions is unacceptable for anyone, let a alone a dog breeder.' The animals are now currently under the care of the RSPCA, after the charity demanded ownership of all the Mazans' pets, including an additional dog, called Clever. The dog, which belonged to the family's daughter who was away at university, had been chipped in Mrs Mazan's name and magistrates decided to transfer custody of the animal, alongside the other 14 dogs, to the RSPCA. Dingle Clark, prosecuting on behalf of the RSPCA, told the court that boarding costs for the dogs since they were seized had reached \\xc2\\xa348,000, with an additional \\xc2\\xa37,000 in vets fees. Filthy: Three of the fully grown dogs were found by RSPCA inspectors crammed in puppy cages and the majority were kept in a squalid garden shed. All animals are now in the charity's care . Sentencing the pair to 26 weeks in jail, Allie Coward, chairman of the bench, said: 'We have considered all the evidence, and this was the most heinous act of cruelty against defenceless animals we have ever seen.' An immediate appeal against the sentence was made and a request for bail ahead of any appeal hearing at the Crown Court, but the application for bail was denied by the court. The pair were also given a lifetime ban against owning or keeping any animal, and told they cannot appeal against the order for at least 25 years.\",\n",
            "       b\"A dog breeder and her husband have been jailed for animal cruelty after their animals were found in the 'worst conditions ever seen'. Margaret and Gary Mazan from Bradford, West Yorkshire, had their 14 Red Setters seized by RSPCA inspectors after the animals were discovered in filthy cages in a garden shed. The court heard how the animals had matted fur, were dehydrated and had not been provided with a suitable diet. Cruel: Margaret Mazan (pictured) and her husband Gary were found guilty of animal cruelty after their 14 Red Setters were found in appalling conditions . Sentenced: Margaret (left) and Gary Mazan (right) were jailed for 26 weeks and given a lifetime ban from owning or keeping pets, which they cannot appeal for 25 years . Three of the fully grown dogs were found by inspectors crammed in puppy cages and the majority were kept in a squalid garden shed. Magistrates heard the couple caused unnecessary suffering to some of the dogs by failing to seek veterinary care for their eyes and injuries to their tails. Mrs Mazan, 53, who was said to have shown and bred setters for more than 10 years, chose not to give evidence at Bradford and Keighley Magistrates' Court during the two-day trial. Her husband Gary, 51, who is a long-distance lorry driver, claimed it was Mrs Mazan who had sole responsibility for the dogs. Crammed: The animals were found with matted fur and inside cramped, filthy cages inside a garden shed . Seized: RSPCA inspectors discovered the animals in some of the 'worst conditions' they had ever seen . Owner: Mrs Mazan, who was said to have shown and bred setters for more than 10 years, chose not to give evidence at Bradford and Keighley Magistrates' Court during the two-day trial . The animals had been kept at the family's home since they moved from Leeds to Bradford in February 2013. A month after the move the RSPCA served a warning notice due to the conditions the dogs were being kept in, which had been adhered to by the time they visited again in April 2013. But concerns over the welfare of the animals were raised by a dog warden after they were refused access to the property and called the RSPCA. Emma Ellis, an RSPCA inspector for Bradford who attended the scene and helped to seize the animals, said it was the worst conditions she has seen in her 12 years as an inspector. She said: 'To see 12 dogs living in a small shed, with three fully grown setters living in a puppy cage is horrific. 'They could not sit down or turn around and there fur was matted, covered in urine and faeces. 'When the shed was opened, the smell literally hit you and it was a small like I had never experienced before. I still recall the smell every time I see the photos. Caged: The animals had been kept at the Bradford home since the family moved from Leeds in February 2013 . Matted: The couple were said to have caused unnecessary suffering to the dogs as they failed to seek veterinary care for their eyes and injuries to their tails (pictured) 'To keep animals in these conditions is unacceptable for anyone, let a alone a dog breeder.' The animals are now currently under the care of the RSPCA, after the charity demanded ownership of all the Mazans' pets, including an additional dog, called Clever. The dog, which belonged to the family's daughter who was away at university, had been chipped in Mrs Mazan's name and magistrates decided to transfer custody of the animal, alongside the other 14 dogs, to the RSPCA. Dingle Clark, prosecuting on behalf of the RSPCA, told the court that boarding costs for the dogs since they were seized had reached \\xc2\\xa348,000, with an additional \\xc2\\xa37,000 in vets fees. Filthy: Three of the fully grown dogs were found by RSPCA inspectors crammed in puppy cages and the majority were kept in a squalid garden shed. All animals are now in the charity's care . Sentencing the pair to 26 weeks in jail, Allie Coward, chairman of the bench, said: 'We have considered all the evidence, and this was the most heinous act of cruelty against defenceless animals we have ever seen.' An immediate appeal against the sentence was made and a request for bail ahead of any appeal hearing at the Crown Court, but the application for bail was denied by the court. The pair were also given a lifetime ban against owning or keeping any animal, and told they cannot appeal against the order for at least 25 years.\",\n",
            "       b\"A dog breeder and her husband have been jailed for animal cruelty after their animals were found in the 'worst conditions ever seen'. Margaret and Gary Mazan from Bradford, West Yorkshire, had their 14 Red Setters seized by RSPCA inspectors after the animals were discovered in filthy cages in a garden shed. The court heard how the animals had matted fur, were dehydrated and had not been provided with a suitable diet. Cruel: Margaret Mazan (pictured) and her husband Gary were found guilty of animal cruelty after their 14 Red Setters were found in appalling conditions . Sentenced: Margaret (left) and Gary Mazan (right) were jailed for 26 weeks and given a lifetime ban from owning or keeping pets, which they cannot appeal for 25 years . Three of the fully grown dogs were found by inspectors crammed in puppy cages and the majority were kept in a squalid garden shed. Magistrates heard the couple caused unnecessary suffering to some of the dogs by failing to seek veterinary care for their eyes and injuries to their tails. Mrs Mazan, 53, who was said to have shown and bred setters for more than 10 years, chose not to give evidence at Bradford and Keighley Magistrates' Court during the two-day trial. Her husband Gary, 51, who is a long-distance lorry driver, claimed it was Mrs Mazan who had sole responsibility for the dogs. Crammed: The animals were found with matted fur and inside cramped, filthy cages inside a garden shed . Seized: RSPCA inspectors discovered the animals in some of the 'worst conditions' they had ever seen . Owner: Mrs Mazan, who was said to have shown and bred setters for more than 10 years, chose not to give evidence at Bradford and Keighley Magistrates' Court during the two-day trial . The animals had been kept at the family's home since they moved from Leeds to Bradford in February 2013. A month after the move the RSPCA served a warning notice due to the conditions the dogs were being kept in, which had been adhered to by the time they visited again in April 2013. But concerns over the welfare of the animals were raised by a dog warden after they were refused access to the property and called the RSPCA. Emma Ellis, an RSPCA inspector for Bradford who attended the scene and helped to seize the animals, said it was the worst conditions she has seen in her 12 years as an inspector. She said: 'To see 12 dogs living in a small shed, with three fully grown setters living in a puppy cage is horrific. 'They could not sit down or turn around and there fur was matted, covered in urine and faeces. 'When the shed was opened, the smell literally hit you and it was a small like I had never experienced before. I still recall the smell every time I see the photos. Caged: The animals had been kept at the Bradford home since the family moved from Leeds in February 2013 . Matted: The couple were said to have caused unnecessary suffering to the dogs as they failed to seek veterinary care for their eyes and injuries to their tails (pictured) 'To keep animals in these conditions is unacceptable for anyone, let a alone a dog breeder.' The animals are now currently under the care of the RSPCA, after the charity demanded ownership of all the Mazans' pets, including an additional dog, called Clever. The dog, which belonged to the family's daughter who was away at university, had been chipped in Mrs Mazan's name and magistrates decided to transfer custody of the animal, alongside the other 14 dogs, to the RSPCA. Dingle Clark, prosecuting on behalf of the RSPCA, told the court that boarding costs for the dogs since they were seized had reached \\xc2\\xa348,000, with an additional \\xc2\\xa37,000 in vets fees. Filthy: Three of the fully grown dogs were found by RSPCA inspectors crammed in puppy cages and the majority were kept in a squalid garden shed. All animals are now in the charity's care . Sentencing the pair to 26 weeks in jail, Allie Coward, chairman of the bench, said: 'We have considered all the evidence, and this was the most heinous act of cruelty against defenceless animals we have ever seen.' An immediate appeal against the sentence was made and a request for bail ahead of any appeal hearing at the Crown Court, but the application for bail was denied by the court. The pair were also given a lifetime ban against owning or keeping any animal, and told they cannot appeal against the order for at least 25 years.\",\n",
            "       b\"A dog breeder and her husband have been jailed for animal cruelty after their animals were found in the 'worst conditions ever seen'. Margaret and Gary Mazan from Bradford, West Yorkshire, had their 14 Red Setters seized by RSPCA inspectors after the animals were discovered in filthy cages in a garden shed. The court heard how the animals had matted fur, were dehydrated and had not been provided with a suitable diet. Cruel: Margaret Mazan (pictured) and her husband Gary were found guilty of animal cruelty after their 14 Red Setters were found in appalling conditions . Sentenced: Margaret (left) and Gary Mazan (right) were jailed for 26 weeks and given a lifetime ban from owning or keeping pets, which they cannot appeal for 25 years . Three of the fully grown dogs were found by inspectors crammed in puppy cages and the majority were kept in a squalid garden shed. Magistrates heard the couple caused unnecessary suffering to some of the dogs by failing to seek veterinary care for their eyes and injuries to their tails. Mrs Mazan, 53, who was said to have shown and bred setters for more than 10 years, chose not to give evidence at Bradford and Keighley Magistrates' Court during the two-day trial. Her husband Gary, 51, who is a long-distance lorry driver, claimed it was Mrs Mazan who had sole responsibility for the dogs. Crammed: The animals were found with matted fur and inside cramped, filthy cages inside a garden shed . Seized: RSPCA inspectors discovered the animals in some of the 'worst conditions' they had ever seen . Owner: Mrs Mazan, who was said to have shown and bred setters for more than 10 years, chose not to give evidence at Bradford and Keighley Magistrates' Court during the two-day trial . The animals had been kept at the family's home since they moved from Leeds to Bradford in February 2013. A month after the move the RSPCA served a warning notice due to the conditions the dogs were being kept in, which had been adhered to by the time they visited again in April 2013. But concerns over the welfare of the animals were raised by a dog warden after they were refused access to the property and called the RSPCA. Emma Ellis, an RSPCA inspector for Bradford who attended the scene and helped to seize the animals, said it was the worst conditions she has seen in her 12 years as an inspector. She said: 'To see 12 dogs living in a small shed, with three fully grown setters living in a puppy cage is horrific. 'They could not sit down or turn around and there fur was matted, covered in urine and faeces. 'When the shed was opened, the smell literally hit you and it was a small like I had never experienced before. I still recall the smell every time I see the photos. Caged: The animals had been kept at the Bradford home since the family moved from Leeds in February 2013 . Matted: The couple were said to have caused unnecessary suffering to the dogs as they failed to seek veterinary care for their eyes and injuries to their tails (pictured) 'To keep animals in these conditions is unacceptable for anyone, let a alone a dog breeder.' The animals are now currently under the care of the RSPCA, after the charity demanded ownership of all the Mazans' pets, including an additional dog, called Clever. The dog, which belonged to the family's daughter who was away at university, had been chipped in Mrs Mazan's name and magistrates decided to transfer custody of the animal, alongside the other 14 dogs, to the RSPCA. Dingle Clark, prosecuting on behalf of the RSPCA, told the court that boarding costs for the dogs since they were seized had reached \\xc2\\xa348,000, with an additional \\xc2\\xa37,000 in vets fees. Filthy: Three of the fully grown dogs were found by RSPCA inspectors crammed in puppy cages and the majority were kept in a squalid garden shed. All animals are now in the charity's care . Sentencing the pair to 26 weeks in jail, Allie Coward, chairman of the bench, said: 'We have considered all the evidence, and this was the most heinous act of cruelty against defenceless animals we have ever seen.' An immediate appeal against the sentence was made and a request for bail ahead of any appeal hearing at the Crown Court, but the application for bail was denied by the court. The pair were also given a lifetime ban against owning or keeping any animal, and told they cannot appeal against the order for at least 25 years.\",\n",
            "       b\"A dog breeder and her husband have been jailed for animal cruelty after their animals were found in the 'worst conditions ever seen'. Margaret and Gary Mazan from Bradford, West Yorkshire, had their 14 Red Setters seized by RSPCA inspectors after the animals were discovered in filthy cages in a garden shed. The court heard how the animals had matted fur, were dehydrated and had not been provided with a suitable diet. Cruel: Margaret Mazan (pictured) and her husband Gary were found guilty of animal cruelty after their 14 Red Setters were found in appalling conditions . Sentenced: Margaret (left) and Gary Mazan (right) were jailed for 26 weeks and given a lifetime ban from owning or keeping pets, which they cannot appeal for 25 years . Three of the fully grown dogs were found by inspectors crammed in puppy cages and the majority were kept in a squalid garden shed. Magistrates heard the couple caused unnecessary suffering to some of the dogs by failing to seek veterinary care for their eyes and injuries to their tails. Mrs Mazan, 53, who was said to have shown and bred setters for more than 10 years, chose not to give evidence at Bradford and Keighley Magistrates' Court during the two-day trial. Her husband Gary, 51, who is a long-distance lorry driver, claimed it was Mrs Mazan who had sole responsibility for the dogs. Crammed: The animals were found with matted fur and inside cramped, filthy cages inside a garden shed . Seized: RSPCA inspectors discovered the animals in some of the 'worst conditions' they had ever seen . Owner: Mrs Mazan, who was said to have shown and bred setters for more than 10 years, chose not to give evidence at Bradford and Keighley Magistrates' Court during the two-day trial . The animals had been kept at the family's home since they moved from Leeds to Bradford in February 2013. A month after the move the RSPCA served a warning notice due to the conditions the dogs were being kept in, which had been adhered to by the time they visited again in April 2013. But concerns over the welfare of the animals were raised by a dog warden after they were refused access to the property and called the RSPCA. Emma Ellis, an RSPCA inspector for Bradford who attended the scene and helped to seize the animals, said it was the worst conditions she has seen in her 12 years as an inspector. She said: 'To see 12 dogs living in a small shed, with three fully grown setters living in a puppy cage is horrific. 'They could not sit down or turn around and there fur was matted, covered in urine and faeces. 'When the shed was opened, the smell literally hit you and it was a small like I had never experienced before. I still recall the smell every time I see the photos. Caged: The animals had been kept at the Bradford home since the family moved from Leeds in February 2013 . Matted: The couple were said to have caused unnecessary suffering to the dogs as they failed to seek veterinary care for their eyes and injuries to their tails (pictured) 'To keep animals in these conditions is unacceptable for anyone, let a alone a dog breeder.' The animals are now currently under the care of the RSPCA, after the charity demanded ownership of all the Mazans' pets, including an additional dog, called Clever. The dog, which belonged to the family's daughter who was away at university, had been chipped in Mrs Mazan's name and magistrates decided to transfer custody of the animal, alongside the other 14 dogs, to the RSPCA. Dingle Clark, prosecuting on behalf of the RSPCA, told the court that boarding costs for the dogs since they were seized had reached \\xc2\\xa348,000, with an additional \\xc2\\xa37,000 in vets fees. Filthy: Three of the fully grown dogs were found by RSPCA inspectors crammed in puppy cages and the majority were kept in a squalid garden shed. All animals are now in the charity's care . Sentencing the pair to 26 weeks in jail, Allie Coward, chairman of the bench, said: 'We have considered all the evidence, and this was the most heinous act of cruelty against defenceless animals we have ever seen.' An immediate appeal against the sentence was made and a request for bail ahead of any appeal hearing at the Crown Court, but the application for bail was denied by the court. The pair were also given a lifetime ban against owning or keeping any animal, and told they cannot appeal against the order for at least 25 years.\",\n",
            "       b\"A dog breeder and her husband have been jailed for animal cruelty after their animals were found in the 'worst conditions ever seen'. Margaret and Gary Mazan from Bradford, West Yorkshire, had their 14 Red Setters seized by RSPCA inspectors after the animals were discovered in filthy cages in a garden shed. The court heard how the animals had matted fur, were dehydrated and had not been provided with a suitable diet. Cruel: Margaret Mazan (pictured) and her husband Gary were found guilty of animal cruelty after their 14 Red Setters were found in appalling conditions . Sentenced: Margaret (left) and Gary Mazan (right) were jailed for 26 weeks and given a lifetime ban from owning or keeping pets, which they cannot appeal for 25 years . Three of the fully grown dogs were found by inspectors crammed in puppy cages and the majority were kept in a squalid garden shed. Magistrates heard the couple caused unnecessary suffering to some of the dogs by failing to seek veterinary care for their eyes and injuries to their tails. Mrs Mazan, 53, who was said to have shown and bred setters for more than 10 years, chose not to give evidence at Bradford and Keighley Magistrates' Court during the two-day trial. Her husband Gary, 51, who is a long-distance lorry driver, claimed it was Mrs Mazan who had sole responsibility for the dogs. Crammed: The animals were found with matted fur and inside cramped, filthy cages inside a garden shed . Seized: RSPCA inspectors discovered the animals in some of the 'worst conditions' they had ever seen . Owner: Mrs Mazan, who was said to have shown and bred setters for more than 10 years, chose not to give evidence at Bradford and Keighley Magistrates' Court during the two-day trial . The animals had been kept at the family's home since they moved from Leeds to Bradford in February 2013. A month after the move the RSPCA served a warning notice due to the conditions the dogs were being kept in, which had been adhered to by the time they visited again in April 2013. But concerns over the welfare of the animals were raised by a dog warden after they were refused access to the property and called the RSPCA. Emma Ellis, an RSPCA inspector for Bradford who attended the scene and helped to seize the animals, said it was the worst conditions she has seen in her 12 years as an inspector. She said: 'To see 12 dogs living in a small shed, with three fully grown setters living in a puppy cage is horrific. 'They could not sit down or turn around and there fur was matted, covered in urine and faeces. 'When the shed was opened, the smell literally hit you and it was a small like I had never experienced before. I still recall the smell every time I see the photos. Caged: The animals had been kept at the Bradford home since the family moved from Leeds in February 2013 . Matted: The couple were said to have caused unnecessary suffering to the dogs as they failed to seek veterinary care for their eyes and injuries to their tails (pictured) 'To keep animals in these conditions is unacceptable for anyone, let a alone a dog breeder.' The animals are now currently under the care of the RSPCA, after the charity demanded ownership of all the Mazans' pets, including an additional dog, called Clever. The dog, which belonged to the family's daughter who was away at university, had been chipped in Mrs Mazan's name and magistrates decided to transfer custody of the animal, alongside the other 14 dogs, to the RSPCA. Dingle Clark, prosecuting on behalf of the RSPCA, told the court that boarding costs for the dogs since they were seized had reached \\xc2\\xa348,000, with an additional \\xc2\\xa37,000 in vets fees. Filthy: Three of the fully grown dogs were found by RSPCA inspectors crammed in puppy cages and the majority were kept in a squalid garden shed. All animals are now in the charity's care . Sentencing the pair to 26 weeks in jail, Allie Coward, chairman of the bench, said: 'We have considered all the evidence, and this was the most heinous act of cruelty against defenceless animals we have ever seen.' An immediate appeal against the sentence was made and a request for bail ahead of any appeal hearing at the Crown Court, but the application for bail was denied by the court. The pair were also given a lifetime ban against owning or keeping any animal, and told they cannot appeal against the order for at least 25 years.\",\n",
            "       b\"A dog breeder and her husband have been jailed for animal cruelty after their animals were found in the 'worst conditions ever seen'. Margaret and Gary Mazan from Bradford, West Yorkshire, had their 14 Red Setters seized by RSPCA inspectors after the animals were discovered in filthy cages in a garden shed. The court heard how the animals had matted fur, were dehydrated and had not been provided with a suitable diet. Cruel: Margaret Mazan (pictured) and her husband Gary were found guilty of animal cruelty after their 14 Red Setters were found in appalling conditions . Sentenced: Margaret (left) and Gary Mazan (right) were jailed for 26 weeks and given a lifetime ban from owning or keeping pets, which they cannot appeal for 25 years . Three of the fully grown dogs were found by inspectors crammed in puppy cages and the majority were kept in a squalid garden shed. Magistrates heard the couple caused unnecessary suffering to some of the dogs by failing to seek veterinary care for their eyes and injuries to their tails. Mrs Mazan, 53, who was said to have shown and bred setters for more than 10 years, chose not to give evidence at Bradford and Keighley Magistrates' Court during the two-day trial. Her husband Gary, 51, who is a long-distance lorry driver, claimed it was Mrs Mazan who had sole responsibility for the dogs. Crammed: The animals were found with matted fur and inside cramped, filthy cages inside a garden shed . Seized: RSPCA inspectors discovered the animals in some of the 'worst conditions' they had ever seen . Owner: Mrs Mazan, who was said to have shown and bred setters for more than 10 years, chose not to give evidence at Bradford and Keighley Magistrates' Court during the two-day trial . The animals had been kept at the family's home since they moved from Leeds to Bradford in February 2013. A month after the move the RSPCA served a warning notice due to the conditions the dogs were being kept in, which had been adhered to by the time they visited again in April 2013. But concerns over the welfare of the animals were raised by a dog warden after they were refused access to the property and called the RSPCA. Emma Ellis, an RSPCA inspector for Bradford who attended the scene and helped to seize the animals, said it was the worst conditions she has seen in her 12 years as an inspector. She said: 'To see 12 dogs living in a small shed, with three fully grown setters living in a puppy cage is horrific. 'They could not sit down or turn around and there fur was matted, covered in urine and faeces. 'When the shed was opened, the smell literally hit you and it was a small like I had never experienced before. I still recall the smell every time I see the photos. Caged: The animals had been kept at the Bradford home since the family moved from Leeds in February 2013 . Matted: The couple were said to have caused unnecessary suffering to the dogs as they failed to seek veterinary care for their eyes and injuries to their tails (pictured) 'To keep animals in these conditions is unacceptable for anyone, let a alone a dog breeder.' The animals are now currently under the care of the RSPCA, after the charity demanded ownership of all the Mazans' pets, including an additional dog, called Clever. The dog, which belonged to the family's daughter who was away at university, had been chipped in Mrs Mazan's name and magistrates decided to transfer custody of the animal, alongside the other 14 dogs, to the RSPCA. Dingle Clark, prosecuting on behalf of the RSPCA, told the court that boarding costs for the dogs since they were seized had reached \\xc2\\xa348,000, with an additional \\xc2\\xa37,000 in vets fees. Filthy: Three of the fully grown dogs were found by RSPCA inspectors crammed in puppy cages and the majority were kept in a squalid garden shed. All animals are now in the charity's care . Sentencing the pair to 26 weeks in jail, Allie Coward, chairman of the bench, said: 'We have considered all the evidence, and this was the most heinous act of cruelty against defenceless animals we have ever seen.' An immediate appeal against the sentence was made and a request for bail ahead of any appeal hearing at the Crown Court, but the application for bail was denied by the court. The pair were also given a lifetime ban against owning or keeping any animal, and told they cannot appeal against the order for at least 25 years.\",\n",
            "       b\"A dog breeder and her husband have been jailed for animal cruelty after their animals were found in the 'worst conditions ever seen'. Margaret and Gary Mazan from Bradford, West Yorkshire, had their 14 Red Setters seized by RSPCA inspectors after the animals were discovered in filthy cages in a garden shed. The court heard how the animals had matted fur, were dehydrated and had not been provided with a suitable diet. Cruel: Margaret Mazan (pictured) and her husband Gary were found guilty of animal cruelty after their 14 Red Setters were found in appalling conditions . Sentenced: Margaret (left) and Gary Mazan (right) were jailed for 26 weeks and given a lifetime ban from owning or keeping pets, which they cannot appeal for 25 years . Three of the fully grown dogs were found by inspectors crammed in puppy cages and the majority were kept in a squalid garden shed. Magistrates heard the couple caused unnecessary suffering to some of the dogs by failing to seek veterinary care for their eyes and injuries to their tails. Mrs Mazan, 53, who was said to have shown and bred setters for more than 10 years, chose not to give evidence at Bradford and Keighley Magistrates' Court during the two-day trial. Her husband Gary, 51, who is a long-distance lorry driver, claimed it was Mrs Mazan who had sole responsibility for the dogs. Crammed: The animals were found with matted fur and inside cramped, filthy cages inside a garden shed . Seized: RSPCA inspectors discovered the animals in some of the 'worst conditions' they had ever seen . Owner: Mrs Mazan, who was said to have shown and bred setters for more than 10 years, chose not to give evidence at Bradford and Keighley Magistrates' Court during the two-day trial . The animals had been kept at the family's home since they moved from Leeds to Bradford in February 2013. A month after the move the RSPCA served a warning notice due to the conditions the dogs were being kept in, which had been adhered to by the time they visited again in April 2013. But concerns over the welfare of the animals were raised by a dog warden after they were refused access to the property and called the RSPCA. Emma Ellis, an RSPCA inspector for Bradford who attended the scene and helped to seize the animals, said it was the worst conditions she has seen in her 12 years as an inspector. She said: 'To see 12 dogs living in a small shed, with three fully grown setters living in a puppy cage is horrific. 'They could not sit down or turn around and there fur was matted, covered in urine and faeces. 'When the shed was opened, the smell literally hit you and it was a small like I had never experienced before. I still recall the smell every time I see the photos. Caged: The animals had been kept at the Bradford home since the family moved from Leeds in February 2013 . Matted: The couple were said to have caused unnecessary suffering to the dogs as they failed to seek veterinary care for their eyes and injuries to their tails (pictured) 'To keep animals in these conditions is unacceptable for anyone, let a alone a dog breeder.' The animals are now currently under the care of the RSPCA, after the charity demanded ownership of all the Mazans' pets, including an additional dog, called Clever. The dog, which belonged to the family's daughter who was away at university, had been chipped in Mrs Mazan's name and magistrates decided to transfer custody of the animal, alongside the other 14 dogs, to the RSPCA. Dingle Clark, prosecuting on behalf of the RSPCA, told the court that boarding costs for the dogs since they were seized had reached \\xc2\\xa348,000, with an additional \\xc2\\xa37,000 in vets fees. Filthy: Three of the fully grown dogs were found by RSPCA inspectors crammed in puppy cages and the majority were kept in a squalid garden shed. All animals are now in the charity's care . Sentencing the pair to 26 weeks in jail, Allie Coward, chairman of the bench, said: 'We have considered all the evidence, and this was the most heinous act of cruelty against defenceless animals we have ever seen.' An immediate appeal against the sentence was made and a request for bail ahead of any appeal hearing at the Crown Court, but the application for bail was denied by the court. The pair were also given a lifetime ban against owning or keeping any animal, and told they cannot appeal against the order for at least 25 years.\",\n",
            "       b\"A dog breeder and her husband have been jailed for animal cruelty after their animals were found in the 'worst conditions ever seen'. Margaret and Gary Mazan from Bradford, West Yorkshire, had their 14 Red Setters seized by RSPCA inspectors after the animals were discovered in filthy cages in a garden shed. The court heard how the animals had matted fur, were dehydrated and had not been provided with a suitable diet. Cruel: Margaret Mazan (pictured) and her husband Gary were found guilty of animal cruelty after their 14 Red Setters were found in appalling conditions . Sentenced: Margaret (left) and Gary Mazan (right) were jailed for 26 weeks and given a lifetime ban from owning or keeping pets, which they cannot appeal for 25 years . Three of the fully grown dogs were found by inspectors crammed in puppy cages and the majority were kept in a squalid garden shed. Magistrates heard the couple caused unnecessary suffering to some of the dogs by failing to seek veterinary care for their eyes and injuries to their tails. Mrs Mazan, 53, who was said to have shown and bred setters for more than 10 years, chose not to give evidence at Bradford and Keighley Magistrates' Court during the two-day trial. Her husband Gary, 51, who is a long-distance lorry driver, claimed it was Mrs Mazan who had sole responsibility for the dogs. Crammed: The animals were found with matted fur and inside cramped, filthy cages inside a garden shed . Seized: RSPCA inspectors discovered the animals in some of the 'worst conditions' they had ever seen . Owner: Mrs Mazan, who was said to have shown and bred setters for more than 10 years, chose not to give evidence at Bradford and Keighley Magistrates' Court during the two-day trial . The animals had been kept at the family's home since they moved from Leeds to Bradford in February 2013. A month after the move the RSPCA served a warning notice due to the conditions the dogs were being kept in, which had been adhered to by the time they visited again in April 2013. But concerns over the welfare of the animals were raised by a dog warden after they were refused access to the property and called the RSPCA. Emma Ellis, an RSPCA inspector for Bradford who attended the scene and helped to seize the animals, said it was the worst conditions she has seen in her 12 years as an inspector. She said: 'To see 12 dogs living in a small shed, with three fully grown setters living in a puppy cage is horrific. 'They could not sit down or turn around and there fur was matted, covered in urine and faeces. 'When the shed was opened, the smell literally hit you and it was a small like I had never experienced before. I still recall the smell every time I see the photos. Caged: The animals had been kept at the Bradford home since the family moved from Leeds in February 2013 . Matted: The couple were said to have caused unnecessary suffering to the dogs as they failed to seek veterinary care for their eyes and injuries to their tails (pictured) 'To keep animals in these conditions is unacceptable for anyone, let a alone a dog breeder.' The animals are now currently under the care of the RSPCA, after the charity demanded ownership of all the Mazans' pets, including an additional dog, called Clever. The dog, which belonged to the family's daughter who was away at university, had been chipped in Mrs Mazan's name and magistrates decided to transfer custody of the animal, alongside the other 14 dogs, to the RSPCA. Dingle Clark, prosecuting on behalf of the RSPCA, told the court that boarding costs for the dogs since they were seized had reached \\xc2\\xa348,000, with an additional \\xc2\\xa37,000 in vets fees. Filthy: Three of the fully grown dogs were found by RSPCA inspectors crammed in puppy cages and the majority were kept in a squalid garden shed. All animals are now in the charity's care . Sentencing the pair to 26 weeks in jail, Allie Coward, chairman of the bench, said: 'We have considered all the evidence, and this was the most heinous act of cruelty against defenceless animals we have ever seen.' An immediate appeal against the sentence was made and a request for bail ahead of any appeal hearing at the Crown Court, but the application for bail was denied by the court. The pair were also given a lifetime ban against owning or keeping any animal, and told they cannot appeal against the order for at least 25 years.\",\n",
            "       b\"A dog breeder and her husband have been jailed for animal cruelty after their animals were found in the 'worst conditions ever seen'. Margaret and Gary Mazan from Bradford, West Yorkshire, had their 14 Red Setters seized by RSPCA inspectors after the animals were discovered in filthy cages in a garden shed. The court heard how the animals had matted fur, were dehydrated and had not been provided with a suitable diet. Cruel: Margaret Mazan (pictured) and her husband Gary were found guilty of animal cruelty after their 14 Red Setters were found in appalling conditions . Sentenced: Margaret (left) and Gary Mazan (right) were jailed for 26 weeks and given a lifetime ban from owning or keeping pets, which they cannot appeal for 25 years . Three of the fully grown dogs were found by inspectors crammed in puppy cages and the majority were kept in a squalid garden shed. Magistrates heard the couple caused unnecessary suffering to some of the dogs by failing to seek veterinary care for their eyes and injuries to their tails. Mrs Mazan, 53, who was said to have shown and bred setters for more than 10 years, chose not to give evidence at Bradford and Keighley Magistrates' Court during the two-day trial. Her husband Gary, 51, who is a long-distance lorry driver, claimed it was Mrs Mazan who had sole responsibility for the dogs. Crammed: The animals were found with matted fur and inside cramped, filthy cages inside a garden shed . Seized: RSPCA inspectors discovered the animals in some of the 'worst conditions' they had ever seen . Owner: Mrs Mazan, who was said to have shown and bred setters for more than 10 years, chose not to give evidence at Bradford and Keighley Magistrates' Court during the two-day trial . The animals had been kept at the family's home since they moved from Leeds to Bradford in February 2013. A month after the move the RSPCA served a warning notice due to the conditions the dogs were being kept in, which had been adhered to by the time they visited again in April 2013. But concerns over the welfare of the animals were raised by a dog warden after they were refused access to the property and called the RSPCA. Emma Ellis, an RSPCA inspector for Bradford who attended the scene and helped to seize the animals, said it was the worst conditions she has seen in her 12 years as an inspector. She said: 'To see 12 dogs living in a small shed, with three fully grown setters living in a puppy cage is horrific. 'They could not sit down or turn around and there fur was matted, covered in urine and faeces. 'When the shed was opened, the smell literally hit you and it was a small like I had never experienced before. I still recall the smell every time I see the photos. Caged: The animals had been kept at the Bradford home since the family moved from Leeds in February 2013 . Matted: The couple were said to have caused unnecessary suffering to the dogs as they failed to seek veterinary care for their eyes and injuries to their tails (pictured) 'To keep animals in these conditions is unacceptable for anyone, let a alone a dog breeder.' The animals are now currently under the care of the RSPCA, after the charity demanded ownership of all the Mazans' pets, including an additional dog, called Clever. The dog, which belonged to the family's daughter who was away at university, had been chipped in Mrs Mazan's name and magistrates decided to transfer custody of the animal, alongside the other 14 dogs, to the RSPCA. Dingle Clark, prosecuting on behalf of the RSPCA, told the court that boarding costs for the dogs since they were seized had reached \\xc2\\xa348,000, with an additional \\xc2\\xa37,000 in vets fees. Filthy: Three of the fully grown dogs were found by RSPCA inspectors crammed in puppy cages and the majority were kept in a squalid garden shed. All animals are now in the charity's care . Sentencing the pair to 26 weeks in jail, Allie Coward, chairman of the bench, said: 'We have considered all the evidence, and this was the most heinous act of cruelty against defenceless animals we have ever seen.' An immediate appeal against the sentence was made and a request for bail ahead of any appeal hearing at the Crown Court, but the application for bail was denied by the court. The pair were also given a lifetime ban against owning or keeping any animal, and told they cannot appeal against the order for at least 25 years.\",\n",
            "       b\"A dog breeder and her husband have been jailed for animal cruelty after their animals were found in the 'worst conditions ever seen'. Margaret and Gary Mazan from Bradford, West Yorkshire, had their 14 Red Setters seized by RSPCA inspectors after the animals were discovered in filthy cages in a garden shed. The court heard how the animals had matted fur, were dehydrated and had not been provided with a suitable diet. Cruel: Margaret Mazan (pictured) and her husband Gary were found guilty of animal cruelty after their 14 Red Setters were found in appalling conditions . Sentenced: Margaret (left) and Gary Mazan (right) were jailed for 26 weeks and given a lifetime ban from owning or keeping pets, which they cannot appeal for 25 years . Three of the fully grown dogs were found by inspectors crammed in puppy cages and the majority were kept in a squalid garden shed. Magistrates heard the couple caused unnecessary suffering to some of the dogs by failing to seek veterinary care for their eyes and injuries to their tails. Mrs Mazan, 53, who was said to have shown and bred setters for more than 10 years, chose not to give evidence at Bradford and Keighley Magistrates' Court during the two-day trial. Her husband Gary, 51, who is a long-distance lorry driver, claimed it was Mrs Mazan who had sole responsibility for the dogs. Crammed: The animals were found with matted fur and inside cramped, filthy cages inside a garden shed . Seized: RSPCA inspectors discovered the animals in some of the 'worst conditions' they had ever seen . Owner: Mrs Mazan, who was said to have shown and bred setters for more than 10 years, chose not to give evidence at Bradford and Keighley Magistrates' Court during the two-day trial . The animals had been kept at the family's home since they moved from Leeds to Bradford in February 2013. A month after the move the RSPCA served a warning notice due to the conditions the dogs were being kept in, which had been adhered to by the time they visited again in April 2013. But concerns over the welfare of the animals were raised by a dog warden after they were refused access to the property and called the RSPCA. Emma Ellis, an RSPCA inspector for Bradford who attended the scene and helped to seize the animals, said it was the worst conditions she has seen in her 12 years as an inspector. She said: 'To see 12 dogs living in a small shed, with three fully grown setters living in a puppy cage is horrific. 'They could not sit down or turn around and there fur was matted, covered in urine and faeces. 'When the shed was opened, the smell literally hit you and it was a small like I had never experienced before. I still recall the smell every time I see the photos. Caged: The animals had been kept at the Bradford home since the family moved from Leeds in February 2013 . Matted: The couple were said to have caused unnecessary suffering to the dogs as they failed to seek veterinary care for their eyes and injuries to their tails (pictured) 'To keep animals in these conditions is unacceptable for anyone, let a alone a dog breeder.' The animals are now currently under the care of the RSPCA, after the charity demanded ownership of all the Mazans' pets, including an additional dog, called Clever. The dog, which belonged to the family's daughter who was away at university, had been chipped in Mrs Mazan's name and magistrates decided to transfer custody of the animal, alongside the other 14 dogs, to the RSPCA. Dingle Clark, prosecuting on behalf of the RSPCA, told the court that boarding costs for the dogs since they were seized had reached \\xc2\\xa348,000, with an additional \\xc2\\xa37,000 in vets fees. Filthy: Three of the fully grown dogs were found by RSPCA inspectors crammed in puppy cages and the majority were kept in a squalid garden shed. All animals are now in the charity's care . Sentencing the pair to 26 weeks in jail, Allie Coward, chairman of the bench, said: 'We have considered all the evidence, and this was the most heinous act of cruelty against defenceless animals we have ever seen.' An immediate appeal against the sentence was made and a request for bail ahead of any appeal hearing at the Crown Court, but the application for bail was denied by the court. The pair were also given a lifetime ban against owning or keeping any animal, and told they cannot appeal against the order for at least 25 years.\",\n",
            "       b\"A dog breeder and her husband have been jailed for animal cruelty after their animals were found in the 'worst conditions ever seen'. Margaret and Gary Mazan from Bradford, West Yorkshire, had their 14 Red Setters seized by RSPCA inspectors after the animals were discovered in filthy cages in a garden shed. The court heard how the animals had matted fur, were dehydrated and had not been provided with a suitable diet. Cruel: Margaret Mazan (pictured) and her husband Gary were found guilty of animal cruelty after their 14 Red Setters were found in appalling conditions . Sentenced: Margaret (left) and Gary Mazan (right) were jailed for 26 weeks and given a lifetime ban from owning or keeping pets, which they cannot appeal for 25 years . Three of the fully grown dogs were found by inspectors crammed in puppy cages and the majority were kept in a squalid garden shed. Magistrates heard the couple caused unnecessary suffering to some of the dogs by failing to seek veterinary care for their eyes and injuries to their tails. Mrs Mazan, 53, who was said to have shown and bred setters for more than 10 years, chose not to give evidence at Bradford and Keighley Magistrates' Court during the two-day trial. Her husband Gary, 51, who is a long-distance lorry driver, claimed it was Mrs Mazan who had sole responsibility for the dogs. Crammed: The animals were found with matted fur and inside cramped, filthy cages inside a garden shed . Seized: RSPCA inspectors discovered the animals in some of the 'worst conditions' they had ever seen . Owner: Mrs Mazan, who was said to have shown and bred setters for more than 10 years, chose not to give evidence at Bradford and Keighley Magistrates' Court during the two-day trial . The animals had been kept at the family's home since they moved from Leeds to Bradford in February 2013. A month after the move the RSPCA served a warning notice due to the conditions the dogs were being kept in, which had been adhered to by the time they visited again in April 2013. But concerns over the welfare of the animals were raised by a dog warden after they were refused access to the property and called the RSPCA. Emma Ellis, an RSPCA inspector for Bradford who attended the scene and helped to seize the animals, said it was the worst conditions she has seen in her 12 years as an inspector. She said: 'To see 12 dogs living in a small shed, with three fully grown setters living in a puppy cage is horrific. 'They could not sit down or turn around and there fur was matted, covered in urine and faeces. 'When the shed was opened, the smell literally hit you and it was a small like I had never experienced before. I still recall the smell every time I see the photos. Caged: The animals had been kept at the Bradford home since the family moved from Leeds in February 2013 . Matted: The couple were said to have caused unnecessary suffering to the dogs as they failed to seek veterinary care for their eyes and injuries to their tails (pictured) 'To keep animals in these conditions is unacceptable for anyone, let a alone a dog breeder.' The animals are now currently under the care of the RSPCA, after the charity demanded ownership of all the Mazans' pets, including an additional dog, called Clever. The dog, which belonged to the family's daughter who was away at university, had been chipped in Mrs Mazan's name and magistrates decided to transfer custody of the animal, alongside the other 14 dogs, to the RSPCA. Dingle Clark, prosecuting on behalf of the RSPCA, told the court that boarding costs for the dogs since they were seized had reached \\xc2\\xa348,000, with an additional \\xc2\\xa37,000 in vets fees. Filthy: Three of the fully grown dogs were found by RSPCA inspectors crammed in puppy cages and the majority were kept in a squalid garden shed. All animals are now in the charity's care . Sentencing the pair to 26 weeks in jail, Allie Coward, chairman of the bench, said: 'We have considered all the evidence, and this was the most heinous act of cruelty against defenceless animals we have ever seen.' An immediate appeal against the sentence was made and a request for bail ahead of any appeal hearing at the Crown Court, but the application for bail was denied by the court. The pair were also given a lifetime ban against owning or keeping any animal, and told they cannot appeal against the order for at least 25 years.\",\n",
            "       b\"A dog breeder and her husband have been jailed for animal cruelty after their animals were found in the 'worst conditions ever seen'. Margaret and Gary Mazan from Bradford, West Yorkshire, had their 14 Red Setters seized by RSPCA inspectors after the animals were discovered in filthy cages in a garden shed. The court heard how the animals had matted fur, were dehydrated and had not been provided with a suitable diet. Cruel: Margaret Mazan (pictured) and her husband Gary were found guilty of animal cruelty after their 14 Red Setters were found in appalling conditions . Sentenced: Margaret (left) and Gary Mazan (right) were jailed for 26 weeks and given a lifetime ban from owning or keeping pets, which they cannot appeal for 25 years . Three of the fully grown dogs were found by inspectors crammed in puppy cages and the majority were kept in a squalid garden shed. Magistrates heard the couple caused unnecessary suffering to some of the dogs by failing to seek veterinary care for their eyes and injuries to their tails. Mrs Mazan, 53, who was said to have shown and bred setters for more than 10 years, chose not to give evidence at Bradford and Keighley Magistrates' Court during the two-day trial. Her husband Gary, 51, who is a long-distance lorry driver, claimed it was Mrs Mazan who had sole responsibility for the dogs. Crammed: The animals were found with matted fur and inside cramped, filthy cages inside a garden shed . Seized: RSPCA inspectors discovered the animals in some of the 'worst conditions' they had ever seen . Owner: Mrs Mazan, who was said to have shown and bred setters for more than 10 years, chose not to give evidence at Bradford and Keighley Magistrates' Court during the two-day trial . The animals had been kept at the family's home since they moved from Leeds to Bradford in February 2013. A month after the move the RSPCA served a warning notice due to the conditions the dogs were being kept in, which had been adhered to by the time they visited again in April 2013. But concerns over the welfare of the animals were raised by a dog warden after they were refused access to the property and called the RSPCA. Emma Ellis, an RSPCA inspector for Bradford who attended the scene and helped to seize the animals, said it was the worst conditions she has seen in her 12 years as an inspector. She said: 'To see 12 dogs living in a small shed, with three fully grown setters living in a puppy cage is horrific. 'They could not sit down or turn around and there fur was matted, covered in urine and faeces. 'When the shed was opened, the smell literally hit you and it was a small like I had never experienced before. I still recall the smell every time I see the photos. Caged: The animals had been kept at the Bradford home since the family moved from Leeds in February 2013 . Matted: The couple were said to have caused unnecessary suffering to the dogs as they failed to seek veterinary care for their eyes and injuries to their tails (pictured) 'To keep animals in these conditions is unacceptable for anyone, let a alone a dog breeder.' The animals are now currently under the care of the RSPCA, after the charity demanded ownership of all the Mazans' pets, including an additional dog, called Clever. The dog, which belonged to the family's daughter who was away at university, had been chipped in Mrs Mazan's name and magistrates decided to transfer custody of the animal, alongside the other 14 dogs, to the RSPCA. Dingle Clark, prosecuting on behalf of the RSPCA, told the court that boarding costs for the dogs since they were seized had reached \\xc2\\xa348,000, with an additional \\xc2\\xa37,000 in vets fees. Filthy: Three of the fully grown dogs were found by RSPCA inspectors crammed in puppy cages and the majority were kept in a squalid garden shed. All animals are now in the charity's care . Sentencing the pair to 26 weeks in jail, Allie Coward, chairman of the bench, said: 'We have considered all the evidence, and this was the most heinous act of cruelty against defenceless animals we have ever seen.' An immediate appeal against the sentence was made and a request for bail ahead of any appeal hearing at the Crown Court, but the application for bail was denied by the court. The pair were also given a lifetime ban against owning or keeping any animal, and told they cannot appeal against the order for at least 25 years.\",\n",
            "       b\"A dog breeder and her husband have been jailed for animal cruelty after their animals were found in the 'worst conditions ever seen'. Margaret and Gary Mazan from Bradford, West Yorkshire, had their 14 Red Setters seized by RSPCA inspectors after the animals were discovered in filthy cages in a garden shed. The court heard how the animals had matted fur, were dehydrated and had not been provided with a suitable diet. Cruel: Margaret Mazan (pictured) and her husband Gary were found guilty of animal cruelty after their 14 Red Setters were found in appalling conditions . Sentenced: Margaret (left) and Gary Mazan (right) were jailed for 26 weeks and given a lifetime ban from owning or keeping pets, which they cannot appeal for 25 years . Three of the fully grown dogs were found by inspectors crammed in puppy cages and the majority were kept in a squalid garden shed. Magistrates heard the couple caused unnecessary suffering to some of the dogs by failing to seek veterinary care for their eyes and injuries to their tails. Mrs Mazan, 53, who was said to have shown and bred setters for more than 10 years, chose not to give evidence at Bradford and Keighley Magistrates' Court during the two-day trial. Her husband Gary, 51, who is a long-distance lorry driver, claimed it was Mrs Mazan who had sole responsibility for the dogs. Crammed: The animals were found with matted fur and inside cramped, filthy cages inside a garden shed . Seized: RSPCA inspectors discovered the animals in some of the 'worst conditions' they had ever seen . Owner: Mrs Mazan, who was said to have shown and bred setters for more than 10 years, chose not to give evidence at Bradford and Keighley Magistrates' Court during the two-day trial . The animals had been kept at the family's home since they moved from Leeds to Bradford in February 2013. A month after the move the RSPCA served a warning notice due to the conditions the dogs were being kept in, which had been adhered to by the time they visited again in April 2013. But concerns over the welfare of the animals were raised by a dog warden after they were refused access to the property and called the RSPCA. Emma Ellis, an RSPCA inspector for Bradford who attended the scene and helped to seize the animals, said it was the worst conditions she has seen in her 12 years as an inspector. She said: 'To see 12 dogs living in a small shed, with three fully grown setters living in a puppy cage is horrific. 'They could not sit down or turn around and there fur was matted, covered in urine and faeces. 'When the shed was opened, the smell literally hit you and it was a small like I had never experienced before. I still recall the smell every time I see the photos. Caged: The animals had been kept at the Bradford home since the family moved from Leeds in February 2013 . Matted: The couple were said to have caused unnecessary suffering to the dogs as they failed to seek veterinary care for their eyes and injuries to their tails (pictured) 'To keep animals in these conditions is unacceptable for anyone, let a alone a dog breeder.' The animals are now currently under the care of the RSPCA, after the charity demanded ownership of all the Mazans' pets, including an additional dog, called Clever. The dog, which belonged to the family's daughter who was away at university, had been chipped in Mrs Mazan's name and magistrates decided to transfer custody of the animal, alongside the other 14 dogs, to the RSPCA. Dingle Clark, prosecuting on behalf of the RSPCA, told the court that boarding costs for the dogs since they were seized had reached \\xc2\\xa348,000, with an additional \\xc2\\xa37,000 in vets fees. Filthy: Three of the fully grown dogs were found by RSPCA inspectors crammed in puppy cages and the majority were kept in a squalid garden shed. All animals are now in the charity's care . Sentencing the pair to 26 weeks in jail, Allie Coward, chairman of the bench, said: 'We have considered all the evidence, and this was the most heinous act of cruelty against defenceless animals we have ever seen.' An immediate appeal against the sentence was made and a request for bail ahead of any appeal hearing at the Crown Court, but the application for bail was denied by the court. The pair were also given a lifetime ban against owning or keeping any animal, and told they cannot appeal against the order for at least 25 years.\",\n",
            "       b\"A dog breeder and her husband have been jailed for animal cruelty after their animals were found in the 'worst conditions ever seen'. Margaret and Gary Mazan from Bradford, West Yorkshire, had their 14 Red Setters seized by RSPCA inspectors after the animals were discovered in filthy cages in a garden shed. The court heard how the animals had matted fur, were dehydrated and had not been provided with a suitable diet. Cruel: Margaret Mazan (pictured) and her husband Gary were found guilty of animal cruelty after their 14 Red Setters were found in appalling conditions . Sentenced: Margaret (left) and Gary Mazan (right) were jailed for 26 weeks and given a lifetime ban from owning or keeping pets, which they cannot appeal for 25 years . Three of the fully grown dogs were found by inspectors crammed in puppy cages and the majority were kept in a squalid garden shed. Magistrates heard the couple caused unnecessary suffering to some of the dogs by failing to seek veterinary care for their eyes and injuries to their tails. Mrs Mazan, 53, who was said to have shown and bred setters for more than 10 years, chose not to give evidence at Bradford and Keighley Magistrates' Court during the two-day trial. Her husband Gary, 51, who is a long-distance lorry driver, claimed it was Mrs Mazan who had sole responsibility for the dogs. Crammed: The animals were found with matted fur and inside cramped, filthy cages inside a garden shed . Seized: RSPCA inspectors discovered the animals in some of the 'worst conditions' they had ever seen . Owner: Mrs Mazan, who was said to have shown and bred setters for more than 10 years, chose not to give evidence at Bradford and Keighley Magistrates' Court during the two-day trial . The animals had been kept at the family's home since they moved from Leeds to Bradford in February 2013. A month after the move the RSPCA served a warning notice due to the conditions the dogs were being kept in, which had been adhered to by the time they visited again in April 2013. But concerns over the welfare of the animals were raised by a dog warden after they were refused access to the property and called the RSPCA. Emma Ellis, an RSPCA inspector for Bradford who attended the scene and helped to seize the animals, said it was the worst conditions she has seen in her 12 years as an inspector. She said: 'To see 12 dogs living in a small shed, with three fully grown setters living in a puppy cage is horrific. 'They could not sit down or turn around and there fur was matted, covered in urine and faeces. 'When the shed was opened, the smell literally hit you and it was a small like I had never experienced before. I still recall the smell every time I see the photos. Caged: The animals had been kept at the Bradford home since the family moved from Leeds in February 2013 . Matted: The couple were said to have caused unnecessary suffering to the dogs as they failed to seek veterinary care for their eyes and injuries to their tails (pictured) 'To keep animals in these conditions is unacceptable for anyone, let a alone a dog breeder.' The animals are now currently under the care of the RSPCA, after the charity demanded ownership of all the Mazans' pets, including an additional dog, called Clever. The dog, which belonged to the family's daughter who was away at university, had been chipped in Mrs Mazan's name and magistrates decided to transfer custody of the animal, alongside the other 14 dogs, to the RSPCA. Dingle Clark, prosecuting on behalf of the RSPCA, told the court that boarding costs for the dogs since they were seized had reached \\xc2\\xa348,000, with an additional \\xc2\\xa37,000 in vets fees. Filthy: Three of the fully grown dogs were found by RSPCA inspectors crammed in puppy cages and the majority were kept in a squalid garden shed. All animals are now in the charity's care . Sentencing the pair to 26 weeks in jail, Allie Coward, chairman of the bench, said: 'We have considered all the evidence, and this was the most heinous act of cruelty against defenceless animals we have ever seen.' An immediate appeal against the sentence was made and a request for bail ahead of any appeal hearing at the Crown Court, but the application for bail was denied by the court. The pair were also given a lifetime ban against owning or keeping any animal, and told they cannot appeal against the order for at least 25 years.\",\n",
            "       b\"A dog breeder and her husband have been jailed for animal cruelty after their animals were found in the 'worst conditions ever seen'. Margaret and Gary Mazan from Bradford, West Yorkshire, had their 14 Red Setters seized by RSPCA inspectors after the animals were discovered in filthy cages in a garden shed. The court heard how the animals had matted fur, were dehydrated and had not been provided with a suitable diet. Cruel: Margaret Mazan (pictured) and her husband Gary were found guilty of animal cruelty after their 14 Red Setters were found in appalling conditions . Sentenced: Margaret (left) and Gary Mazan (right) were jailed for 26 weeks and given a lifetime ban from owning or keeping pets, which they cannot appeal for 25 years . Three of the fully grown dogs were found by inspectors crammed in puppy cages and the majority were kept in a squalid garden shed. Magistrates heard the couple caused unnecessary suffering to some of the dogs by failing to seek veterinary care for their eyes and injuries to their tails. Mrs Mazan, 53, who was said to have shown and bred setters for more than 10 years, chose not to give evidence at Bradford and Keighley Magistrates' Court during the two-day trial. Her husband Gary, 51, who is a long-distance lorry driver, claimed it was Mrs Mazan who had sole responsibility for the dogs. Crammed: The animals were found with matted fur and inside cramped, filthy cages inside a garden shed . Seized: RSPCA inspectors discovered the animals in some of the 'worst conditions' they had ever seen . Owner: Mrs Mazan, who was said to have shown and bred setters for more than 10 years, chose not to give evidence at Bradford and Keighley Magistrates' Court during the two-day trial . The animals had been kept at the family's home since they moved from Leeds to Bradford in February 2013. A month after the move the RSPCA served a warning notice due to the conditions the dogs were being kept in, which had been adhered to by the time they visited again in April 2013. But concerns over the welfare of the animals were raised by a dog warden after they were refused access to the property and called the RSPCA. Emma Ellis, an RSPCA inspector for Bradford who attended the scene and helped to seize the animals, said it was the worst conditions she has seen in her 12 years as an inspector. She said: 'To see 12 dogs living in a small shed, with three fully grown setters living in a puppy cage is horrific. 'They could not sit down or turn around and there fur was matted, covered in urine and faeces. 'When the shed was opened, the smell literally hit you and it was a small like I had never experienced before. I still recall the smell every time I see the photos. Caged: The animals had been kept at the Bradford home since the family moved from Leeds in February 2013 . Matted: The couple were said to have caused unnecessary suffering to the dogs as they failed to seek veterinary care for their eyes and injuries to their tails (pictured) 'To keep animals in these conditions is unacceptable for anyone, let a alone a dog breeder.' The animals are now currently under the care of the RSPCA, after the charity demanded ownership of all the Mazans' pets, including an additional dog, called Clever. The dog, which belonged to the family's daughter who was away at university, had been chipped in Mrs Mazan's name and magistrates decided to transfer custody of the animal, alongside the other 14 dogs, to the RSPCA. Dingle Clark, prosecuting on behalf of the RSPCA, told the court that boarding costs for the dogs since they were seized had reached \\xc2\\xa348,000, with an additional \\xc2\\xa37,000 in vets fees. Filthy: Three of the fully grown dogs were found by RSPCA inspectors crammed in puppy cages and the majority were kept in a squalid garden shed. All animals are now in the charity's care . Sentencing the pair to 26 weeks in jail, Allie Coward, chairman of the bench, said: 'We have considered all the evidence, and this was the most heinous act of cruelty against defenceless animals we have ever seen.' An immediate appeal against the sentence was made and a request for bail ahead of any appeal hearing at the Crown Court, but the application for bail was denied by the court. The pair were also given a lifetime ban against owning or keeping any animal, and told they cannot appeal against the order for at least 25 years.\",\n",
            "       b\"A dog breeder and her husband have been jailed for animal cruelty after their animals were found in the 'worst conditions ever seen'. Margaret and Gary Mazan from Bradford, West Yorkshire, had their 14 Red Setters seized by RSPCA inspectors after the animals were discovered in filthy cages in a garden shed. The court heard how the animals had matted fur, were dehydrated and had not been provided with a suitable diet. Cruel: Margaret Mazan (pictured) and her husband Gary were found guilty of animal cruelty after their 14 Red Setters were found in appalling conditions . Sentenced: Margaret (left) and Gary Mazan (right) were jailed for 26 weeks and given a lifetime ban from owning or keeping pets, which they cannot appeal for 25 years . Three of the fully grown dogs were found by inspectors crammed in puppy cages and the majority were kept in a squalid garden shed. Magistrates heard the couple caused unnecessary suffering to some of the dogs by failing to seek veterinary care for their eyes and injuries to their tails. Mrs Mazan, 53, who was said to have shown and bred setters for more than 10 years, chose not to give evidence at Bradford and Keighley Magistrates' Court during the two-day trial. Her husband Gary, 51, who is a long-distance lorry driver, claimed it was Mrs Mazan who had sole responsibility for the dogs. Crammed: The animals were found with matted fur and inside cramped, filthy cages inside a garden shed . Seized: RSPCA inspectors discovered the animals in some of the 'worst conditions' they had ever seen . Owner: Mrs Mazan, who was said to have shown and bred setters for more than 10 years, chose not to give evidence at Bradford and Keighley Magistrates' Court during the two-day trial . The animals had been kept at the family's home since they moved from Leeds to Bradford in February 2013. A month after the move the RSPCA served a warning notice due to the conditions the dogs were being kept in, which had been adhered to by the time they visited again in April 2013. But concerns over the welfare of the animals were raised by a dog warden after they were refused access to the property and called the RSPCA. Emma Ellis, an RSPCA inspector for Bradford who attended the scene and helped to seize the animals, said it was the worst conditions she has seen in her 12 years as an inspector. She said: 'To see 12 dogs living in a small shed, with three fully grown setters living in a puppy cage is horrific. 'They could not sit down or turn around and there fur was matted, covered in urine and faeces. 'When the shed was opened, the smell literally hit you and it was a small like I had never experienced before. I still recall the smell every time I see the photos. Caged: The animals had been kept at the Bradford home since the family moved from Leeds in February 2013 . Matted: The couple were said to have caused unnecessary suffering to the dogs as they failed to seek veterinary care for their eyes and injuries to their tails (pictured) 'To keep animals in these conditions is unacceptable for anyone, let a alone a dog breeder.' The animals are now currently under the care of the RSPCA, after the charity demanded ownership of all the Mazans' pets, including an additional dog, called Clever. The dog, which belonged to the family's daughter who was away at university, had been chipped in Mrs Mazan's name and magistrates decided to transfer custody of the animal, alongside the other 14 dogs, to the RSPCA. Dingle Clark, prosecuting on behalf of the RSPCA, told the court that boarding costs for the dogs since they were seized had reached \\xc2\\xa348,000, with an additional \\xc2\\xa37,000 in vets fees. Filthy: Three of the fully grown dogs were found by RSPCA inspectors crammed in puppy cages and the majority were kept in a squalid garden shed. All animals are now in the charity's care . Sentencing the pair to 26 weeks in jail, Allie Coward, chairman of the bench, said: 'We have considered all the evidence, and this was the most heinous act of cruelty against defenceless animals we have ever seen.' An immediate appeal against the sentence was made and a request for bail ahead of any appeal hearing at the Crown Court, but the application for bail was denied by the court. The pair were also given a lifetime ban against owning or keeping any animal, and told they cannot appeal against the order for at least 25 years.\",\n",
            "       b\"A dog breeder and her husband have been jailed for animal cruelty after their animals were found in the 'worst conditions ever seen'. Margaret and Gary Mazan from Bradford, West Yorkshire, had their 14 Red Setters seized by RSPCA inspectors after the animals were discovered in filthy cages in a garden shed. The court heard how the animals had matted fur, were dehydrated and had not been provided with a suitable diet. Cruel: Margaret Mazan (pictured) and her husband Gary were found guilty of animal cruelty after their 14 Red Setters were found in appalling conditions . Sentenced: Margaret (left) and Gary Mazan (right) were jailed for 26 weeks and given a lifetime ban from owning or keeping pets, which they cannot appeal for 25 years . Three of the fully grown dogs were found by inspectors crammed in puppy cages and the majority were kept in a squalid garden shed. Magistrates heard the couple caused unnecessary suffering to some of the dogs by failing to seek veterinary care for their eyes and injuries to their tails. Mrs Mazan, 53, who was said to have shown and bred setters for more than 10 years, chose not to give evidence at Bradford and Keighley Magistrates' Court during the two-day trial. Her husband Gary, 51, who is a long-distance lorry driver, claimed it was Mrs Mazan who had sole responsibility for the dogs. Crammed: The animals were found with matted fur and inside cramped, filthy cages inside a garden shed . Seized: RSPCA inspectors discovered the animals in some of the 'worst conditions' they had ever seen . Owner: Mrs Mazan, who was said to have shown and bred setters for more than 10 years, chose not to give evidence at Bradford and Keighley Magistrates' Court during the two-day trial . The animals had been kept at the family's home since they moved from Leeds to Bradford in February 2013. A month after the move the RSPCA served a warning notice due to the conditions the dogs were being kept in, which had been adhered to by the time they visited again in April 2013. But concerns over the welfare of the animals were raised by a dog warden after they were refused access to the property and called the RSPCA. Emma Ellis, an RSPCA inspector for Bradford who attended the scene and helped to seize the animals, said it was the worst conditions she has seen in her 12 years as an inspector. She said: 'To see 12 dogs living in a small shed, with three fully grown setters living in a puppy cage is horrific. 'They could not sit down or turn around and there fur was matted, covered in urine and faeces. 'When the shed was opened, the smell literally hit you and it was a small like I had never experienced before. I still recall the smell every time I see the photos. Caged: The animals had been kept at the Bradford home since the family moved from Leeds in February 2013 . Matted: The couple were said to have caused unnecessary suffering to the dogs as they failed to seek veterinary care for their eyes and injuries to their tails (pictured) 'To keep animals in these conditions is unacceptable for anyone, let a alone a dog breeder.' The animals are now currently under the care of the RSPCA, after the charity demanded ownership of all the Mazans' pets, including an additional dog, called Clever. The dog, which belonged to the family's daughter who was away at university, had been chipped in Mrs Mazan's name and magistrates decided to transfer custody of the animal, alongside the other 14 dogs, to the RSPCA. Dingle Clark, prosecuting on behalf of the RSPCA, told the court that boarding costs for the dogs since they were seized had reached \\xc2\\xa348,000, with an additional \\xc2\\xa37,000 in vets fees. Filthy: Three of the fully grown dogs were found by RSPCA inspectors crammed in puppy cages and the majority were kept in a squalid garden shed. All animals are now in the charity's care . Sentencing the pair to 26 weeks in jail, Allie Coward, chairman of the bench, said: 'We have considered all the evidence, and this was the most heinous act of cruelty against defenceless animals we have ever seen.' An immediate appeal against the sentence was made and a request for bail ahead of any appeal hearing at the Crown Court, but the application for bail was denied by the court. The pair were also given a lifetime ban against owning or keeping any animal, and told they cannot appeal against the order for at least 25 years.\",\n",
            "       b\"A dog breeder and her husband have been jailed for animal cruelty after their animals were found in the 'worst conditions ever seen'. Margaret and Gary Mazan from Bradford, West Yorkshire, had their 14 Red Setters seized by RSPCA inspectors after the animals were discovered in filthy cages in a garden shed. The court heard how the animals had matted fur, were dehydrated and had not been provided with a suitable diet. Cruel: Margaret Mazan (pictured) and her husband Gary were found guilty of animal cruelty after their 14 Red Setters were found in appalling conditions . Sentenced: Margaret (left) and Gary Mazan (right) were jailed for 26 weeks and given a lifetime ban from owning or keeping pets, which they cannot appeal for 25 years . Three of the fully grown dogs were found by inspectors crammed in puppy cages and the majority were kept in a squalid garden shed. Magistrates heard the couple caused unnecessary suffering to some of the dogs by failing to seek veterinary care for their eyes and injuries to their tails. Mrs Mazan, 53, who was said to have shown and bred setters for more than 10 years, chose not to give evidence at Bradford and Keighley Magistrates' Court during the two-day trial. Her husband Gary, 51, who is a long-distance lorry driver, claimed it was Mrs Mazan who had sole responsibility for the dogs. Crammed: The animals were found with matted fur and inside cramped, filthy cages inside a garden shed . Seized: RSPCA inspectors discovered the animals in some of the 'worst conditions' they had ever seen . Owner: Mrs Mazan, who was said to have shown and bred setters for more than 10 years, chose not to give evidence at Bradford and Keighley Magistrates' Court during the two-day trial . The animals had been kept at the family's home since they moved from Leeds to Bradford in February 2013. A month after the move the RSPCA served a warning notice due to the conditions the dogs were being kept in, which had been adhered to by the time they visited again in April 2013. But concerns over the welfare of the animals were raised by a dog warden after they were refused access to the property and called the RSPCA. Emma Ellis, an RSPCA inspector for Bradford who attended the scene and helped to seize the animals, said it was the worst conditions she has seen in her 12 years as an inspector. She said: 'To see 12 dogs living in a small shed, with three fully grown setters living in a puppy cage is horrific. 'They could not sit down or turn around and there fur was matted, covered in urine and faeces. 'When the shed was opened, the smell literally hit you and it was a small like I had never experienced before. I still recall the smell every time I see the photos. Caged: The animals had been kept at the Bradford home since the family moved from Leeds in February 2013 . Matted: The couple were said to have caused unnecessary suffering to the dogs as they failed to seek veterinary care for their eyes and injuries to their tails (pictured) 'To keep animals in these conditions is unacceptable for anyone, let a alone a dog breeder.' The animals are now currently under the care of the RSPCA, after the charity demanded ownership of all the Mazans' pets, including an additional dog, called Clever. The dog, which belonged to the family's daughter who was away at university, had been chipped in Mrs Mazan's name and magistrates decided to transfer custody of the animal, alongside the other 14 dogs, to the RSPCA. Dingle Clark, prosecuting on behalf of the RSPCA, told the court that boarding costs for the dogs since they were seized had reached \\xc2\\xa348,000, with an additional \\xc2\\xa37,000 in vets fees. Filthy: Three of the fully grown dogs were found by RSPCA inspectors crammed in puppy cages and the majority were kept in a squalid garden shed. All animals are now in the charity's care . Sentencing the pair to 26 weeks in jail, Allie Coward, chairman of the bench, said: 'We have considered all the evidence, and this was the most heinous act of cruelty against defenceless animals we have ever seen.' An immediate appeal against the sentence was made and a request for bail ahead of any appeal hearing at the Crown Court, but the application for bail was denied by the court. The pair were also given a lifetime ban against owning or keeping any animal, and told they cannot appeal against the order for at least 25 years.\",\n",
            "       b\"A dog breeder and her husband have been jailed for animal cruelty after their animals were found in the 'worst conditions ever seen'. Margaret and Gary Mazan from Bradford, West Yorkshire, had their 14 Red Setters seized by RSPCA inspectors after the animals were discovered in filthy cages in a garden shed. The court heard how the animals had matted fur, were dehydrated and had not been provided with a suitable diet. Cruel: Margaret Mazan (pictured) and her husband Gary were found guilty of animal cruelty after their 14 Red Setters were found in appalling conditions . Sentenced: Margaret (left) and Gary Mazan (right) were jailed for 26 weeks and given a lifetime ban from owning or keeping pets, which they cannot appeal for 25 years . Three of the fully grown dogs were found by inspectors crammed in puppy cages and the majority were kept in a squalid garden shed. Magistrates heard the couple caused unnecessary suffering to some of the dogs by failing to seek veterinary care for their eyes and injuries to their tails. Mrs Mazan, 53, who was said to have shown and bred setters for more than 10 years, chose not to give evidence at Bradford and Keighley Magistrates' Court during the two-day trial. Her husband Gary, 51, who is a long-distance lorry driver, claimed it was Mrs Mazan who had sole responsibility for the dogs. Crammed: The animals were found with matted fur and inside cramped, filthy cages inside a garden shed . Seized: RSPCA inspectors discovered the animals in some of the 'worst conditions' they had ever seen . Owner: Mrs Mazan, who was said to have shown and bred setters for more than 10 years, chose not to give evidence at Bradford and Keighley Magistrates' Court during the two-day trial . The animals had been kept at the family's home since they moved from Leeds to Bradford in February 2013. A month after the move the RSPCA served a warning notice due to the conditions the dogs were being kept in, which had been adhered to by the time they visited again in April 2013. But concerns over the welfare of the animals were raised by a dog warden after they were refused access to the property and called the RSPCA. Emma Ellis, an RSPCA inspector for Bradford who attended the scene and helped to seize the animals, said it was the worst conditions she has seen in her 12 years as an inspector. She said: 'To see 12 dogs living in a small shed, with three fully grown setters living in a puppy cage is horrific. 'They could not sit down or turn around and there fur was matted, covered in urine and faeces. 'When the shed was opened, the smell literally hit you and it was a small like I had never experienced before. I still recall the smell every time I see the photos. Caged: The animals had been kept at the Bradford home since the family moved from Leeds in February 2013 . Matted: The couple were said to have caused unnecessary suffering to the dogs as they failed to seek veterinary care for their eyes and injuries to their tails (pictured) 'To keep animals in these conditions is unacceptable for anyone, let a alone a dog breeder.' The animals are now currently under the care of the RSPCA, after the charity demanded ownership of all the Mazans' pets, including an additional dog, called Clever. The dog, which belonged to the family's daughter who was away at university, had been chipped in Mrs Mazan's name and magistrates decided to transfer custody of the animal, alongside the other 14 dogs, to the RSPCA. Dingle Clark, prosecuting on behalf of the RSPCA, told the court that boarding costs for the dogs since they were seized had reached \\xc2\\xa348,000, with an additional \\xc2\\xa37,000 in vets fees. Filthy: Three of the fully grown dogs were found by RSPCA inspectors crammed in puppy cages and the majority were kept in a squalid garden shed. All animals are now in the charity's care . Sentencing the pair to 26 weeks in jail, Allie Coward, chairman of the bench, said: 'We have considered all the evidence, and this was the most heinous act of cruelty against defenceless animals we have ever seen.' An immediate appeal against the sentence was made and a request for bail ahead of any appeal hearing at the Crown Court, but the application for bail was denied by the court. The pair were also given a lifetime ban against owning or keeping any animal, and told they cannot appeal against the order for at least 25 years.\",\n",
            "       b\"A dog breeder and her husband have been jailed for animal cruelty after their animals were found in the 'worst conditions ever seen'. Margaret and Gary Mazan from Bradford, West Yorkshire, had their 14 Red Setters seized by RSPCA inspectors after the animals were discovered in filthy cages in a garden shed. The court heard how the animals had matted fur, were dehydrated and had not been provided with a suitable diet. Cruel: Margaret Mazan (pictured) and her husband Gary were found guilty of animal cruelty after their 14 Red Setters were found in appalling conditions . Sentenced: Margaret (left) and Gary Mazan (right) were jailed for 26 weeks and given a lifetime ban from owning or keeping pets, which they cannot appeal for 25 years . Three of the fully grown dogs were found by inspectors crammed in puppy cages and the majority were kept in a squalid garden shed. Magistrates heard the couple caused unnecessary suffering to some of the dogs by failing to seek veterinary care for their eyes and injuries to their tails. Mrs Mazan, 53, who was said to have shown and bred setters for more than 10 years, chose not to give evidence at Bradford and Keighley Magistrates' Court during the two-day trial. Her husband Gary, 51, who is a long-distance lorry driver, claimed it was Mrs Mazan who had sole responsibility for the dogs. Crammed: The animals were found with matted fur and inside cramped, filthy cages inside a garden shed . Seized: RSPCA inspectors discovered the animals in some of the 'worst conditions' they had ever seen . Owner: Mrs Mazan, who was said to have shown and bred setters for more than 10 years, chose not to give evidence at Bradford and Keighley Magistrates' Court during the two-day trial . The animals had been kept at the family's home since they moved from Leeds to Bradford in February 2013. A month after the move the RSPCA served a warning notice due to the conditions the dogs were being kept in, which had been adhered to by the time they visited again in April 2013. But concerns over the welfare of the animals were raised by a dog warden after they were refused access to the property and called the RSPCA. Emma Ellis, an RSPCA inspector for Bradford who attended the scene and helped to seize the animals, said it was the worst conditions she has seen in her 12 years as an inspector. She said: 'To see 12 dogs living in a small shed, with three fully grown setters living in a puppy cage is horrific. 'They could not sit down or turn around and there fur was matted, covered in urine and faeces. 'When the shed was opened, the smell literally hit you and it was a small like I had never experienced before. I still recall the smell every time I see the photos. Caged: The animals had been kept at the Bradford home since the family moved from Leeds in February 2013 . Matted: The couple were said to have caused unnecessary suffering to the dogs as they failed to seek veterinary care for their eyes and injuries to their tails (pictured) 'To keep animals in these conditions is unacceptable for anyone, let a alone a dog breeder.' The animals are now currently under the care of the RSPCA, after the charity demanded ownership of all the Mazans' pets, including an additional dog, called Clever. The dog, which belonged to the family's daughter who was away at university, had been chipped in Mrs Mazan's name and magistrates decided to transfer custody of the animal, alongside the other 14 dogs, to the RSPCA. Dingle Clark, prosecuting on behalf of the RSPCA, told the court that boarding costs for the dogs since they were seized had reached \\xc2\\xa348,000, with an additional \\xc2\\xa37,000 in vets fees. Filthy: Three of the fully grown dogs were found by RSPCA inspectors crammed in puppy cages and the majority were kept in a squalid garden shed. All animals are now in the charity's care . Sentencing the pair to 26 weeks in jail, Allie Coward, chairman of the bench, said: 'We have considered all the evidence, and this was the most heinous act of cruelty against defenceless animals we have ever seen.' An immediate appeal against the sentence was made and a request for bail ahead of any appeal hearing at the Crown Court, but the application for bail was denied by the court. The pair were also given a lifetime ban against owning or keeping any animal, and told they cannot appeal against the order for at least 25 years.\",\n",
            "       b\"A dog breeder and her husband have been jailed for animal cruelty after their animals were found in the 'worst conditions ever seen'. Margaret and Gary Mazan from Bradford, West Yorkshire, had their 14 Red Setters seized by RSPCA inspectors after the animals were discovered in filthy cages in a garden shed. The court heard how the animals had matted fur, were dehydrated and had not been provided with a suitable diet. Cruel: Margaret Mazan (pictured) and her husband Gary were found guilty of animal cruelty after their 14 Red Setters were found in appalling conditions . Sentenced: Margaret (left) and Gary Mazan (right) were jailed for 26 weeks and given a lifetime ban from owning or keeping pets, which they cannot appeal for 25 years . Three of the fully grown dogs were found by inspectors crammed in puppy cages and the majority were kept in a squalid garden shed. Magistrates heard the couple caused unnecessary suffering to some of the dogs by failing to seek veterinary care for their eyes and injuries to their tails. Mrs Mazan, 53, who was said to have shown and bred setters for more than 10 years, chose not to give evidence at Bradford and Keighley Magistrates' Court during the two-day trial. Her husband Gary, 51, who is a long-distance lorry driver, claimed it was Mrs Mazan who had sole responsibility for the dogs. Crammed: The animals were found with matted fur and inside cramped, filthy cages inside a garden shed . Seized: RSPCA inspectors discovered the animals in some of the 'worst conditions' they had ever seen . Owner: Mrs Mazan, who was said to have shown and bred setters for more than 10 years, chose not to give evidence at Bradford and Keighley Magistrates' Court during the two-day trial . The animals had been kept at the family's home since they moved from Leeds to Bradford in February 2013. A month after the move the RSPCA served a warning notice due to the conditions the dogs were being kept in, which had been adhered to by the time they visited again in April 2013. But concerns over the welfare of the animals were raised by a dog warden after they were refused access to the property and called the RSPCA. Emma Ellis, an RSPCA inspector for Bradford who attended the scene and helped to seize the animals, said it was the worst conditions she has seen in her 12 years as an inspector. She said: 'To see 12 dogs living in a small shed, with three fully grown setters living in a puppy cage is horrific. 'They could not sit down or turn around and there fur was matted, covered in urine and faeces. 'When the shed was opened, the smell literally hit you and it was a small like I had never experienced before. I still recall the smell every time I see the photos. Caged: The animals had been kept at the Bradford home since the family moved from Leeds in February 2013 . Matted: The couple were said to have caused unnecessary suffering to the dogs as they failed to seek veterinary care for their eyes and injuries to their tails (pictured) 'To keep animals in these conditions is unacceptable for anyone, let a alone a dog breeder.' The animals are now currently under the care of the RSPCA, after the charity demanded ownership of all the Mazans' pets, including an additional dog, called Clever. The dog, which belonged to the family's daughter who was away at university, had been chipped in Mrs Mazan's name and magistrates decided to transfer custody of the animal, alongside the other 14 dogs, to the RSPCA. Dingle Clark, prosecuting on behalf of the RSPCA, told the court that boarding costs for the dogs since they were seized had reached \\xc2\\xa348,000, with an additional \\xc2\\xa37,000 in vets fees. Filthy: Three of the fully grown dogs were found by RSPCA inspectors crammed in puppy cages and the majority were kept in a squalid garden shed. All animals are now in the charity's care . Sentencing the pair to 26 weeks in jail, Allie Coward, chairman of the bench, said: 'We have considered all the evidence, and this was the most heinous act of cruelty against defenceless animals we have ever seen.' An immediate appeal against the sentence was made and a request for bail ahead of any appeal hearing at the Crown Court, but the application for bail was denied by the court. The pair were also given a lifetime ban against owning or keeping any animal, and told they cannot appeal against the order for at least 25 years.\",\n",
            "       b\"A dog breeder and her husband have been jailed for animal cruelty after their animals were found in the 'worst conditions ever seen'. Margaret and Gary Mazan from Bradford, West Yorkshire, had their 14 Red Setters seized by RSPCA inspectors after the animals were discovered in filthy cages in a garden shed. The court heard how the animals had matted fur, were dehydrated and had not been provided with a suitable diet. Cruel: Margaret Mazan (pictured) and her husband Gary were found guilty of animal cruelty after their 14 Red Setters were found in appalling conditions . Sentenced: Margaret (left) and Gary Mazan (right) were jailed for 26 weeks and given a lifetime ban from owning or keeping pets, which they cannot appeal for 25 years . Three of the fully grown dogs were found by inspectors crammed in puppy cages and the majority were kept in a squalid garden shed. Magistrates heard the couple caused unnecessary suffering to some of the dogs by failing to seek veterinary care for their eyes and injuries to their tails. Mrs Mazan, 53, who was said to have shown and bred setters for more than 10 years, chose not to give evidence at Bradford and Keighley Magistrates' Court during the two-day trial. Her husband Gary, 51, who is a long-distance lorry driver, claimed it was Mrs Mazan who had sole responsibility for the dogs. Crammed: The animals were found with matted fur and inside cramped, filthy cages inside a garden shed . Seized: RSPCA inspectors discovered the animals in some of the 'worst conditions' they had ever seen . Owner: Mrs Mazan, who was said to have shown and bred setters for more than 10 years, chose not to give evidence at Bradford and Keighley Magistrates' Court during the two-day trial . The animals had been kept at the family's home since they moved from Leeds to Bradford in February 2013. A month after the move the RSPCA served a warning notice due to the conditions the dogs were being kept in, which had been adhered to by the time they visited again in April 2013. But concerns over the welfare of the animals were raised by a dog warden after they were refused access to the property and called the RSPCA. Emma Ellis, an RSPCA inspector for Bradford who attended the scene and helped to seize the animals, said it was the worst conditions she has seen in her 12 years as an inspector. She said: 'To see 12 dogs living in a small shed, with three fully grown setters living in a puppy cage is horrific. 'They could not sit down or turn around and there fur was matted, covered in urine and faeces. 'When the shed was opened, the smell literally hit you and it was a small like I had never experienced before. I still recall the smell every time I see the photos. Caged: The animals had been kept at the Bradford home since the family moved from Leeds in February 2013 . Matted: The couple were said to have caused unnecessary suffering to the dogs as they failed to seek veterinary care for their eyes and injuries to their tails (pictured) 'To keep animals in these conditions is unacceptable for anyone, let a alone a dog breeder.' The animals are now currently under the care of the RSPCA, after the charity demanded ownership of all the Mazans' pets, including an additional dog, called Clever. The dog, which belonged to the family's daughter who was away at university, had been chipped in Mrs Mazan's name and magistrates decided to transfer custody of the animal, alongside the other 14 dogs, to the RSPCA. Dingle Clark, prosecuting on behalf of the RSPCA, told the court that boarding costs for the dogs since they were seized had reached \\xc2\\xa348,000, with an additional \\xc2\\xa37,000 in vets fees. Filthy: Three of the fully grown dogs were found by RSPCA inspectors crammed in puppy cages and the majority were kept in a squalid garden shed. All animals are now in the charity's care . Sentencing the pair to 26 weeks in jail, Allie Coward, chairman of the bench, said: 'We have considered all the evidence, and this was the most heinous act of cruelty against defenceless animals we have ever seen.' An immediate appeal against the sentence was made and a request for bail ahead of any appeal hearing at the Crown Court, but the application for bail was denied by the court. The pair were also given a lifetime ban against owning or keeping any animal, and told they cannot appeal against the order for at least 25 years.\",\n",
            "       b\"A dog breeder and her husband have been jailed for animal cruelty after their animals were found in the 'worst conditions ever seen'. Margaret and Gary Mazan from Bradford, West Yorkshire, had their 14 Red Setters seized by RSPCA inspectors after the animals were discovered in filthy cages in a garden shed. The court heard how the animals had matted fur, were dehydrated and had not been provided with a suitable diet. Cruel: Margaret Mazan (pictured) and her husband Gary were found guilty of animal cruelty after their 14 Red Setters were found in appalling conditions . Sentenced: Margaret (left) and Gary Mazan (right) were jailed for 26 weeks and given a lifetime ban from owning or keeping pets, which they cannot appeal for 25 years . Three of the fully grown dogs were found by inspectors crammed in puppy cages and the majority were kept in a squalid garden shed. Magistrates heard the couple caused unnecessary suffering to some of the dogs by failing to seek veterinary care for their eyes and injuries to their tails. Mrs Mazan, 53, who was said to have shown and bred setters for more than 10 years, chose not to give evidence at Bradford and Keighley Magistrates' Court during the two-day trial. Her husband Gary, 51, who is a long-distance lorry driver, claimed it was Mrs Mazan who had sole responsibility for the dogs. Crammed: The animals were found with matted fur and inside cramped, filthy cages inside a garden shed . Seized: RSPCA inspectors discovered the animals in some of the 'worst conditions' they had ever seen . Owner: Mrs Mazan, who was said to have shown and bred setters for more than 10 years, chose not to give evidence at Bradford and Keighley Magistrates' Court during the two-day trial . The animals had been kept at the family's home since they moved from Leeds to Bradford in February 2013. A month after the move the RSPCA served a warning notice due to the conditions the dogs were being kept in, which had been adhered to by the time they visited again in April 2013. But concerns over the welfare of the animals were raised by a dog warden after they were refused access to the property and called the RSPCA. Emma Ellis, an RSPCA inspector for Bradford who attended the scene and helped to seize the animals, said it was the worst conditions she has seen in her 12 years as an inspector. She said: 'To see 12 dogs living in a small shed, with three fully grown setters living in a puppy cage is horrific. 'They could not sit down or turn around and there fur was matted, covered in urine and faeces. 'When the shed was opened, the smell literally hit you and it was a small like I had never experienced before. I still recall the smell every time I see the photos. Caged: The animals had been kept at the Bradford home since the family moved from Leeds in February 2013 . Matted: The couple were said to have caused unnecessary suffering to the dogs as they failed to seek veterinary care for their eyes and injuries to their tails (pictured) 'To keep animals in these conditions is unacceptable for anyone, let a alone a dog breeder.' The animals are now currently under the care of the RSPCA, after the charity demanded ownership of all the Mazans' pets, including an additional dog, called Clever. The dog, which belonged to the family's daughter who was away at university, had been chipped in Mrs Mazan's name and magistrates decided to transfer custody of the animal, alongside the other 14 dogs, to the RSPCA. Dingle Clark, prosecuting on behalf of the RSPCA, told the court that boarding costs for the dogs since they were seized had reached \\xc2\\xa348,000, with an additional \\xc2\\xa37,000 in vets fees. Filthy: Three of the fully grown dogs were found by RSPCA inspectors crammed in puppy cages and the majority were kept in a squalid garden shed. All animals are now in the charity's care . Sentencing the pair to 26 weeks in jail, Allie Coward, chairman of the bench, said: 'We have considered all the evidence, and this was the most heinous act of cruelty against defenceless animals we have ever seen.' An immediate appeal against the sentence was made and a request for bail ahead of any appeal hearing at the Crown Court, but the application for bail was denied by the court. The pair were also given a lifetime ban against owning or keeping any animal, and told they cannot appeal against the order for at least 25 years.\",\n",
            "       b'Presidents, kings and dukes will gather in Los Angeles this weekend to represent their great nations, but you\\'ve probably never heard of them. The leaders of places with names like Molossia, Westarctica, Vikesland and Broslavia are coming together at the Anaheim Central Library for MicroCon 2015, which has been dubbed the first North American gathering of micronations. These self-proclaimed countries print their own stamps, wave their own flags and mint their own money. Many have also created sashes and pendants for their royalty. But most of their citizens have a population of less than 10. Many don\\'t even live on the land at all. Scroll down for video . Molossia, population five, is just one of the small, self-proclaimed micronations that will be represented at MicroCon 2015 in Los Angeles this weekend . MicroCon 2015 was organized by Kevin Baugh, who is the President of the Republic of Molossia. Molossia can be found in Reno, Nevada. At 1.3 acres, the country is the size of a football field. Only Baugh and his wife and children live in Molossia, although it has 27 citizens, as well as its own passports, railroad, phone system, bank, post office and general store. Baugh himself will give you a personal tour of the country, as long as you call ahead. Travis McHenry, the Grand Duke of Westarctica, posing in his uniform. McHenry will be giving a talk at MicroCon 2015 called \\'Micronations that matter\\', to encourage more micronations to become nonprofits . \\'When you come to visit you see as much as possible a functioning nation,\\' said Baugh. But Baugh knows there are some things he won\\'t be able change, even if he is the president of his own great nation. \\'Can I lower the drinking age? Well no, I can\\'t,\\' he said. \\'Come on, let\\'s get real.\\' \\'We all want to think we have our own country, but you know the U.S. is a lot bigger.\\' The Grand Duchy of Broslavia has realized the same limitations, but with its military. Founded in Albuquerque by Grand Duke Jacob Felts, whose name inspired the nation\\'s capital of Feltasia, Broslavia has only five citizens - but its own volunteer military. But instead of guns, the military is armed with cardboard copies of AK-47s. They fire rubber bands. Broslavia claims to have recently expanded its territory by annexing planet Pluto. Travis McHenry, the grand duke of Westartica, will also be in attendance at MicroCon 2015. Westarctica is a much larger nation than Molossia, with more than 620,000 square miles in Antarctica to its name. None of the nation\\'s 300 citizens live on the frozen land. No one does. McHenry, also a recruiting coordinator in a Los Angeles media company, said he was \\'really inspired\\' when he found out there was a piece of Antarctica that had never been claimed. But Westarctica is not just an empty country. It\\'s also a nonprofit, advocating for the protection of native penguins and researching how climate change is impacting Antarctica\\'s ice sheet. McHenry will give a talk at MicroCon 2015 called \\'Micronations that matter,\\' which he hopes will encourage other leaders to use their countries for a good cause. \\'It\\'s just sort of encouraging other micronations to become nonprofits,\\' he said. \\'So they\\'re actually doing something rather than just walking around wearing fancy capes.\\' His Imperial Majesty George II of the Empire of Atlantium (left), Prince Paul Delprat of the Principality of Wy, (center) and his princess Susan chat during   Australia\\'s first conference of micronation leaders in 2010 . The Republic of Molossia . Founded by Baugh and a buddy as teenagers in 1977, it existed mainly in Baugh\\'s bedroom until he bought 1.3 acres of property in Northern Nevada in 1998 and built a railroad and private phone company. Molossia pays taxes to the United States but likes to think of that as foreign aid. Its creation was inspired by the Peter Sellers comedy \"The Mouse That Roared,\" about a small nation that declares war on the United States so it can receive foreign aid after it loses. Grand Duchy of Westarctica . One of the world\\'s largest micronations, it encompasses 620,000 square miles of the Antarctic, but nobody actually lives there. It was founded in 2001 by His Royal Highness Grand Duke Travis McHenry after he learned no other nation had laid claim to the area. McHenry says he would like to eventually make Westarctica a real country. If he does, he jokes that he\\'ll probably promote himself from grand duke to king. The Kingdom of Vikesland . Located adjacent to picturesque Riding Mountain National Park in Manitoba, Canada, it was founded in 2005 by Christopher Barry Joseph Beyette, a TV newsman who prefers to be called King Christopher I. The king says his fascination with micronationalism led him to create the country. He says he\\'d like to eventually produce a documentary on the micronation movement. Royal Republic of Ladonia . Located on a rocky shoreline in southwest Sweden, this micronation came into being as the result of a lengthy legal battle over a gigantic pop-art sculpture made of 70 tons of driftwood. After Swedish authorities demanded that it be torn down artist Lars Vik went to court. . After vandals torched it, he built another and went back to court. In 1996 angry supporters declared the site, in a nature preserve, an independent nation. Ladonia claims to have 17,000 citizens now, although none actually live there. It is ruled by Queen Carolyn I, whose coronation took place in 2011 by the disputed sculpture. The Grand Duchy of Broslavia . Founded in 2014 in Albuquerque, it is ruled by His Majesty Grand Duke Jacob Felts and lists its capital as Feltasia. Although it has only five citizens, Broslavia claims to have a volunteer military armed with cardboard copies of AK-47s that fire rubber bands. It claims to have recently expanded its territory by annexing the dwarf planet Pluto.',\n",
            "       b'Presidents, kings and dukes will gather in Los Angeles this weekend to represent their great nations, but you\\'ve probably never heard of them. The leaders of places with names like Molossia, Westarctica, Vikesland and Broslavia are coming together at the Anaheim Central Library for MicroCon 2015, which has been dubbed the first North American gathering of micronations. These self-proclaimed countries print their own stamps, wave their own flags and mint their own money. Many have also created sashes and pendants for their royalty. But most of their citizens have a population of less than 10. Many don\\'t even live on the land at all. Scroll down for video . Molossia, population five, is just one of the small, self-proclaimed micronations that will be represented at MicroCon 2015 in Los Angeles this weekend . MicroCon 2015 was organized by Kevin Baugh, who is the President of the Republic of Molossia. Molossia can be found in Reno, Nevada. At 1.3 acres, the country is the size of a football field. Only Baugh and his wife and children live in Molossia, although it has 27 citizens, as well as its own passports, railroad, phone system, bank, post office and general store. Baugh himself will give you a personal tour of the country, as long as you call ahead. Travis McHenry, the Grand Duke of Westarctica, posing in his uniform. McHenry will be giving a talk at MicroCon 2015 called \\'Micronations that matter\\', to encourage more micronations to become nonprofits . \\'When you come to visit you see as much as possible a functioning nation,\\' said Baugh. But Baugh knows there are some things he won\\'t be able change, even if he is the president of his own great nation. \\'Can I lower the drinking age? Well no, I can\\'t,\\' he said. \\'Come on, let\\'s get real.\\' \\'We all want to think we have our own country, but you know the U.S. is a lot bigger.\\' The Grand Duchy of Broslavia has realized the same limitations, but with its military. Founded in Albuquerque by Grand Duke Jacob Felts, whose name inspired the nation\\'s capital of Feltasia, Broslavia has only five citizens - but its own volunteer military. But instead of guns, the military is armed with cardboard copies of AK-47s. They fire rubber bands. Broslavia claims to have recently expanded its territory by annexing planet Pluto. Travis McHenry, the grand duke of Westartica, will also be in attendance at MicroCon 2015. Westarctica is a much larger nation than Molossia, with more than 620,000 square miles in Antarctica to its name. None of the nation\\'s 300 citizens live on the frozen land. No one does. McHenry, also a recruiting coordinator in a Los Angeles media company, said he was \\'really inspired\\' when he found out there was a piece of Antarctica that had never been claimed. But Westarctica is not just an empty country. It\\'s also a nonprofit, advocating for the protection of native penguins and researching how climate change is impacting Antarctica\\'s ice sheet. McHenry will give a talk at MicroCon 2015 called \\'Micronations that matter,\\' which he hopes will encourage other leaders to use their countries for a good cause. \\'It\\'s just sort of encouraging other micronations to become nonprofits,\\' he said. \\'So they\\'re actually doing something rather than just walking around wearing fancy capes.\\' His Imperial Majesty George II of the Empire of Atlantium (left), Prince Paul Delprat of the Principality of Wy, (center) and his princess Susan chat during   Australia\\'s first conference of micronation leaders in 2010 . The Republic of Molossia . Founded by Baugh and a buddy as teenagers in 1977, it existed mainly in Baugh\\'s bedroom until he bought 1.3 acres of property in Northern Nevada in 1998 and built a railroad and private phone company. Molossia pays taxes to the United States but likes to think of that as foreign aid. Its creation was inspired by the Peter Sellers comedy \"The Mouse That Roared,\" about a small nation that declares war on the United States so it can receive foreign aid after it loses. Grand Duchy of Westarctica . One of the world\\'s largest micronations, it encompasses 620,000 square miles of the Antarctic, but nobody actually lives there. It was founded in 2001 by His Royal Highness Grand Duke Travis McHenry after he learned no other nation had laid claim to the area. McHenry says he would like to eventually make Westarctica a real country. If he does, he jokes that he\\'ll probably promote himself from grand duke to king. The Kingdom of Vikesland . Located adjacent to picturesque Riding Mountain National Park in Manitoba, Canada, it was founded in 2005 by Christopher Barry Joseph Beyette, a TV newsman who prefers to be called King Christopher I. The king says his fascination with micronationalism led him to create the country. He says he\\'d like to eventually produce a documentary on the micronation movement. Royal Republic of Ladonia . Located on a rocky shoreline in southwest Sweden, this micronation came into being as the result of a lengthy legal battle over a gigantic pop-art sculpture made of 70 tons of driftwood. After Swedish authorities demanded that it be torn down artist Lars Vik went to court. . After vandals torched it, he built another and went back to court. In 1996 angry supporters declared the site, in a nature preserve, an independent nation. Ladonia claims to have 17,000 citizens now, although none actually live there. It is ruled by Queen Carolyn I, whose coronation took place in 2011 by the disputed sculpture. The Grand Duchy of Broslavia . Founded in 2014 in Albuquerque, it is ruled by His Majesty Grand Duke Jacob Felts and lists its capital as Feltasia. Although it has only five citizens, Broslavia claims to have a volunteer military armed with cardboard copies of AK-47s that fire rubber bands. It claims to have recently expanded its territory by annexing the dwarf planet Pluto.',\n",
            "       b'Presidents, kings and dukes will gather in Los Angeles this weekend to represent their great nations, but you\\'ve probably never heard of them. The leaders of places with names like Molossia, Westarctica, Vikesland and Broslavia are coming together at the Anaheim Central Library for MicroCon 2015, which has been dubbed the first North American gathering of micronations. These self-proclaimed countries print their own stamps, wave their own flags and mint their own money. Many have also created sashes and pendants for their royalty. But most of their citizens have a population of less than 10. Many don\\'t even live on the land at all. Scroll down for video . Molossia, population five, is just one of the small, self-proclaimed micronations that will be represented at MicroCon 2015 in Los Angeles this weekend . MicroCon 2015 was organized by Kevin Baugh, who is the President of the Republic of Molossia. Molossia can be found in Reno, Nevada. At 1.3 acres, the country is the size of a football field. Only Baugh and his wife and children live in Molossia, although it has 27 citizens, as well as its own passports, railroad, phone system, bank, post office and general store. Baugh himself will give you a personal tour of the country, as long as you call ahead. Travis McHenry, the Grand Duke of Westarctica, posing in his uniform. McHenry will be giving a talk at MicroCon 2015 called \\'Micronations that matter\\', to encourage more micronations to become nonprofits . \\'When you come to visit you see as much as possible a functioning nation,\\' said Baugh. But Baugh knows there are some things he won\\'t be able change, even if he is the president of his own great nation. \\'Can I lower the drinking age? Well no, I can\\'t,\\' he said. \\'Come on, let\\'s get real.\\' \\'We all want to think we have our own country, but you know the U.S. is a lot bigger.\\' The Grand Duchy of Broslavia has realized the same limitations, but with its military. Founded in Albuquerque by Grand Duke Jacob Felts, whose name inspired the nation\\'s capital of Feltasia, Broslavia has only five citizens - but its own volunteer military. But instead of guns, the military is armed with cardboard copies of AK-47s. They fire rubber bands. Broslavia claims to have recently expanded its territory by annexing planet Pluto. Travis McHenry, the grand duke of Westartica, will also be in attendance at MicroCon 2015. Westarctica is a much larger nation than Molossia, with more than 620,000 square miles in Antarctica to its name. None of the nation\\'s 300 citizens live on the frozen land. No one does. McHenry, also a recruiting coordinator in a Los Angeles media company, said he was \\'really inspired\\' when he found out there was a piece of Antarctica that had never been claimed. But Westarctica is not just an empty country. It\\'s also a nonprofit, advocating for the protection of native penguins and researching how climate change is impacting Antarctica\\'s ice sheet. McHenry will give a talk at MicroCon 2015 called \\'Micronations that matter,\\' which he hopes will encourage other leaders to use their countries for a good cause. \\'It\\'s just sort of encouraging other micronations to become nonprofits,\\' he said. \\'So they\\'re actually doing something rather than just walking around wearing fancy capes.\\' His Imperial Majesty George II of the Empire of Atlantium (left), Prince Paul Delprat of the Principality of Wy, (center) and his princess Susan chat during   Australia\\'s first conference of micronation leaders in 2010 . The Republic of Molossia . Founded by Baugh and a buddy as teenagers in 1977, it existed mainly in Baugh\\'s bedroom until he bought 1.3 acres of property in Northern Nevada in 1998 and built a railroad and private phone company. Molossia pays taxes to the United States but likes to think of that as foreign aid. Its creation was inspired by the Peter Sellers comedy \"The Mouse That Roared,\" about a small nation that declares war on the United States so it can receive foreign aid after it loses. Grand Duchy of Westarctica . One of the world\\'s largest micronations, it encompasses 620,000 square miles of the Antarctic, but nobody actually lives there. It was founded in 2001 by His Royal Highness Grand Duke Travis McHenry after he learned no other nation had laid claim to the area. McHenry says he would like to eventually make Westarctica a real country. If he does, he jokes that he\\'ll probably promote himself from grand duke to king. The Kingdom of Vikesland . Located adjacent to picturesque Riding Mountain National Park in Manitoba, Canada, it was founded in 2005 by Christopher Barry Joseph Beyette, a TV newsman who prefers to be called King Christopher I. The king says his fascination with micronationalism led him to create the country. He says he\\'d like to eventually produce a documentary on the micronation movement. Royal Republic of Ladonia . Located on a rocky shoreline in southwest Sweden, this micronation came into being as the result of a lengthy legal battle over a gigantic pop-art sculpture made of 70 tons of driftwood. After Swedish authorities demanded that it be torn down artist Lars Vik went to court. . After vandals torched it, he built another and went back to court. In 1996 angry supporters declared the site, in a nature preserve, an independent nation. Ladonia claims to have 17,000 citizens now, although none actually live there. It is ruled by Queen Carolyn I, whose coronation took place in 2011 by the disputed sculpture. The Grand Duchy of Broslavia . Founded in 2014 in Albuquerque, it is ruled by His Majesty Grand Duke Jacob Felts and lists its capital as Feltasia. Although it has only five citizens, Broslavia claims to have a volunteer military armed with cardboard copies of AK-47s that fire rubber bands. It claims to have recently expanded its territory by annexing the dwarf planet Pluto.'],\n",
            "      dtype=object)>}\n"
          ],
          "name": "stdout"
        }
      ]
    },
    {
      "cell_type": "markdown",
      "metadata": {
        "id": "BXqZ9DKw5fpU"
      },
      "source": [
        "## Class Weights to Handle Imbalance \n",
        "\n",
        "Most sentences in a docomunet are just not relevant to the summary; this means a majority of the labels for sentence samples are 0. Huge class imbalance. We can use loss weighted trianing to help handle this. "
      ]
    },
    {
      "cell_type": "code",
      "metadata": {
        "id": "7VCD6JbSre9Y",
        "colab": {
          "base_uri": "https://localhost:8080/"
        },
        "outputId": "35f29054-63c1-4071-c984-8f944ca69811"
      },
      "source": [
        "def get_label_list(ds):\n",
        "  labels = [ y.numpy() for x,y in ds.unbatch() ] \n",
        "  return np.array(labels)\n",
        "\n",
        "train_labels = get_label_list(train_ds)\n",
        "train_labels_ohe = keras.utils.to_categorical(train_labels)\n",
        "\n",
        "class_totals = train_labels_ohe.sum(axis=0)\n",
        "class_weight = dict()\n",
        "\n",
        "for i in range(0, len(class_totals)):\n",
        "\tclass_weight[i] = class_totals.max() / class_totals[i]\n",
        "\n",
        "class_weight"
      ],
      "execution_count": null,
      "outputs": [
        {
          "output_type": "execute_result",
          "data": {
            "text/plain": [
              "{0: 1.0, 1: 25.719673}"
            ]
          },
          "metadata": {
            "tags": []
          },
          "execution_count": 17
        }
      ]
    },
    {
      "cell_type": "code",
      "metadata": {
        "id": "wcZY-7NO5NTP"
      },
      "source": [
        ""
      ],
      "execution_count": null,
      "outputs": []
    },
    {
      "cell_type": "markdown",
      "metadata": {
        "id": "1rxQ7DODsh2s"
      },
      "source": [
        "## Build A Model "
      ]
    },
    {
      "cell_type": "code",
      "metadata": {
        "id": "LfEe1mlesjRi"
      },
      "source": [
        "import tensorflow_hub as hub\n",
        "from tensorflow import keras \n",
        "import tensorflow as tf\n",
        "from IPython.display import Image \n",
        "import matplotlib.pyplot as plt \n",
        "\n",
        "encoding_layer = hub.KerasLayer('https://tfhub.dev/google/universal-sentence-encoder/4',  trainable=True, name=\"embedding\")"
      ],
      "execution_count": null,
      "outputs": []
    },
    {
      "cell_type": "code",
      "metadata": {
        "id": "am0dshDrsnJB"
      },
      "source": [
        "def get_model():\n",
        "  input_a = keras.Input(shape=[] ,dtype=tf.string, name=\"sentence\") \n",
        "  input_b = keras.Input(shape=[] ,dtype=tf.string, name=\"document\") \n",
        "\n",
        "  embedding_a = encoding_layer(input_a)\n",
        "  embedding_b = encoding_layer(input_b)\n",
        "\n",
        "\n",
        "  x = keras.layers.Concatenate(name=\"concat\")([embedding_a, embedding_b])\n",
        "\n",
        "  x = keras.layers.Dense(32,activation='relu')(x) \n",
        "  output = keras.layers.Dense(1, activation=\"sigmoid\")(x)\n",
        "\n",
        "  model = keras.Model([input_a, input_b], output, name=\"extractive_model\") \n",
        "  tf.keras.utils.plot_model(model, to_file=\"model.png\", show_shapes=True) \n",
        "  return model "
      ],
      "execution_count": null,
      "outputs": []
    },
    {
      "cell_type": "code",
      "metadata": {
        "id": "OTBdb1e7s6KP",
        "colab": {
          "base_uri": "https://localhost:8080/",
          "height": 533
        },
        "outputId": "d501a71e-9cb4-4a27-f80b-7e9c3603ee47"
      },
      "source": [
        "model = get_model()\n",
        "Image(\"model.png\")"
      ],
      "execution_count": null,
      "outputs": [
        {
          "output_type": "execute_result",
          "data": {
            "image/png": "[encoded data removed]",
            "text/plain": [
              "<IPython.core.display.Image object>"
            ]
          },
          "metadata": {
            "tags": []
          },
          "execution_count": 20
        }
      ]
    },
    {
      "cell_type": "code",
      "metadata": {
        "id": "K9UWTzb8tFe9"
      },
      "source": [
        "model.compile(optimizer='adam', \n",
        "              loss='binary_crossentropy',\n",
        "              # loss = \"categorical_crossentropy\" \n",
        "              # loss = tf.keras.losses.SparseCategoricalCrossentropy(from_logits=True),\n",
        "              metrics=[tf.keras.metrics.BinaryAccuracy()] \n",
        "              # metrics = ['accuracy']\n",
        "              )\n"
      ],
      "execution_count": null,
      "outputs": []
    },
    {
      "cell_type": "markdown",
      "metadata": {
        "id": "mNQ2zy1aD-pB"
      },
      "source": [
        ""
      ]
    },
    {
      "cell_type": "code",
      "metadata": {
        "id": "gcDNxWH6lT7g"
      },
      "source": [
        "def plot_history(history, title=\"\"): \n",
        "   \n",
        "  # Plot training & validation loss values\n",
        "  plt.plot(history.history['loss'])\n",
        "  plt.plot(history.history['val_loss'])\n",
        "  plt.title('Model Losss | ' + title)\n",
        "  plt.ylabel('Loss')\n",
        "  plt.xlabel('Epoch')\n",
        "  plt.legend(['Train', 'Test'], loc='upper left')\n",
        "\n",
        "  \n",
        "  plt.show()"
      ],
      "execution_count": null,
      "outputs": []
    },
    {
      "cell_type": "code",
      "metadata": {
        "id": "v4qlaNOstT8O",
        "colab": {
          "base_uri": "https://localhost:8080/"
        },
        "outputId": "13fbd314-bbe8-446d-816e-4174e52be2f8"
      },
      "source": [
        "history = model.fit(train_ds,\n",
        "                     validation_data=val_ds, \n",
        "                     epochs=2, \n",
        "                    #  steps_per_epoch = 5,\n",
        "                    #  class_weight=class_weight\n",
        "                    )"
      ],
      "execution_count": null,
      "outputs": [
        {
          "output_type": "stream",
          "text": [
            "Epoch 1/2\n",
            "7551/7551 [==============================] - 1861s 245ms/step - loss: 0.1542 - binary_accuracy: 0.9625 - val_loss: 0.1465 - val_binary_accuracy: 0.9636\n",
            "Epoch 2/2\n",
            "7551/7551 [==============================] - 1861s 246ms/step - loss: 0.0793 - binary_accuracy: 0.9754 - val_loss: 0.1860 - val_binary_accuracy: 0.9453\n"
          ],
          "name": "stdout"
        }
      ]
    },
    {
      "cell_type": "code",
      "metadata": {
        "colab": {
          "base_uri": "https://localhost:8080/"
        },
        "id": "JF9bMYD7A1RQ",
        "outputId": "7b0b18f2-e950-4e4e-8960-beeb051d6653"
      },
      "source": [
        "class_weight"
      ],
      "execution_count": null,
      "outputs": [
        {
          "output_type": "execute_result",
          "data": {
            "text/plain": [
              "{0: 1.0, 1: 25.719673}"
            ]
          },
          "metadata": {
            "tags": []
          },
          "execution_count": 24
        }
      ]
    },
    {
      "cell_type": "code",
      "metadata": {
        "id": "0GeKXgNX0Osq",
        "colab": {
          "base_uri": "https://localhost:8080/",
          "height": 295
        },
        "outputId": "619cd88a-3c5d-413d-f87c-1112fd092866"
      },
      "source": [
        "plot_history(history, title=\"\")"
      ],
      "execution_count": null,
      "outputs": [
        {
          "output_type": "display_data",
          "data": {
            "image/png": "[encoded data removed]",
            "text/plain": [
              "<Figure size 432x288 with 1 Axes>"
            ]
          },
          "metadata": {
            "tags": [],
            "needs_background": "light"
          }
        }
      ]
    },
    {
      "cell_type": "code",
      "metadata": {
        "colab": {
          "base_uri": "https://localhost:8080/"
        },
        "id": "ecRjvf3x_cpH",
        "outputId": "dad319e5-ac03-4a37-a24e-6fa65d3b0c08"
      },
      "source": [
        "history.history"
      ],
      "execution_count": null,
      "outputs": [
        {
          "output_type": "execute_result",
          "data": {
            "text/plain": [
              "{'binary_accuracy': [0.9625049829483032, 0.9754037857055664],\n",
              " 'loss': [0.15424863994121552, 0.07928810268640518],\n",
              " 'val_binary_accuracy': [0.9636034965515137, 0.9452977776527405],\n",
              " 'val_loss': [0.14648936688899994, 0.18596890568733215]}"
            ]
          },
          "metadata": {
            "tags": []
          },
          "execution_count": 26
        }
      ]
    },
    {
      "cell_type": "code",
      "metadata": {
        "id": "hXqoz9u__hbV"
      },
      "source": [
        "preds = model.predict(val_ds)"
      ],
      "execution_count": null,
      "outputs": []
    },
    {
      "cell_type": "code",
      "metadata": {
        "id": "eSWZWedGCrCR"
      },
      "source": [
        "def save_model(name, model):\n",
        "  print(\">>> Saving model\", name) \n",
        "  model_dir = \"models/\"+name\n",
        "  tf.keras.models.save_model(model, model_dir, save_traces=True, include_optimizer=False) "
      ],
      "execution_count": null,
      "outputs": []
    },
    {
      "cell_type": "code",
      "metadata": {
        "colab": {
          "base_uri": "https://localhost:8080/"
        },
        "id": "mxAD4CfjL9zT",
        "outputId": "9e7ad0c8-9fea-41f0-b7f9-a504c418bf13"
      },
      "source": [
        "os.makedirs(\"models\")\n",
        "save_model(\"extractive\", model)"
      ],
      "execution_count": null,
      "outputs": [
        {
          "output_type": "stream",
          "text": [
            ">>> Saving model extractive\n",
            "INFO:tensorflow:Assets written to: models/extractive/assets\n"
          ],
          "name": "stdout"
        },
        {
          "output_type": "stream",
          "text": [
            "INFO:tensorflow:Assets written to: models/extractive/assets\n"
          ],
          "name": "stderr"
        }
      ]
    },
    {
      "cell_type": "code",
      "metadata": {
        "colab": {
          "base_uri": "https://localhost:8080/"
        },
        "id": "Tierd49DG3WO",
        "outputId": "0c0c2472-7330-4210-a3b3-b3151695d1d6"
      },
      "source": [
        "!gsutil cp -r models $sum_dir"
      ],
      "execution_count": null,
      "outputs": [
        {
          "output_type": "stream",
          "text": [
            "Copying file://models/extractive/keras_metadata.pb...\n",
            "/ [0 files][    0.0 B/  9.4 KiB]                                                \r/ [1 files][  9.4 KiB/  9.4 KiB]                                                \rCopying file://models/extractive/saved_model.pb...\n",
            "Copying file://models/extractive/variables/variables.data-00000-of-00001...\n",
            "Copying file://models/extractive/variables/variables.index...\n",
            "- [4 files][988.2 MiB/988.2 MiB]                                                \n",
            "Operation completed over 4 objects/988.2 MiB.                                    \n"
          ],
          "name": "stdout"
        }
      ]
    },
    {
      "cell_type": "code",
      "metadata": {
        "colab": {
          "base_uri": "https://localhost:8080/"
        },
        "id": "lXC3MJgHC_ky",
        "outputId": "28087879-20d8-4db4-f354-51a24340613b"
      },
      "source": [
        "!ls -lh models/extractive/variables/"
      ],
      "execution_count": null,
      "outputs": [
        {
          "output_type": "stream",
          "text": [
            "total 980M\n",
            "-rw-r--r-- 1 root root 980M Aug 16 17:42 variables.data-00000-of-00001\n",
            "-rw-r--r-- 1 root root  13K Aug 16 17:42 variables.index\n"
          ],
          "name": "stdout"
        }
      ]
    },
    {
      "cell_type": "code",
      "metadata": {
        "id": "ykUe2u4pDMCg"
      },
      "source": [
        "!rm -rf models "
      ],
      "execution_count": null,
      "outputs": []
    },
    {
      "cell_type": "code",
      "metadata": {
        "colab": {
          "base_uri": "https://localhost:8080/"
        },
        "id": "A38fwA7IGsQI",
        "outputId": "46f7e82a-d2c3-46bd-c27f-9dcca3386195"
      },
      "source": [
        "lmodel = tf.keras.models.load_model( \"models/extractive\")"
      ],
      "execution_count": null,
      "outputs": [
        {
          "output_type": "stream",
          "text": [
            "WARNING:tensorflow:No training configuration found in save file, so the model was *not* compiled. Compile it manually.\n"
          ],
          "name": "stdout"
        },
        {
          "output_type": "stream",
          "text": [
            "WARNING:tensorflow:No training configuration found in save file, so the model was *not* compiled. Compile it manually.\n"
          ],
          "name": "stderr"
        }
      ]
    },
    {
      "cell_type": "markdown",
      "metadata": {
        "id": "ecVtlqCIMkP9"
      },
      "source": [
        "## Online Evaluation\n",
        "Given a new document\n",
        "- Construct sentences using spacy. Only sentences with length > 14 are included\n",
        "-  Construct pairs into a batch .. e.g. each sentence and the entire document\n",
        "-  Get score predictions for each sentence \n",
        "\n",
        "## Post Processing \n",
        "- Construct list of senctence dictionaries - {sent, score, index} prediction and index as it appears in document\n",
        "- Sort list by score \n",
        "- Take the top n sentences to be included in summary \n",
        "- Sort top n by order of appearance (and any other metric)"
      ]
    },
    {
      "cell_type": "code",
      "metadata": {
        "colab": {
          "base_uri": "https://localhost:8080/"
        },
        "id": "IIyg-rUYBmAB",
        "outputId": "ed6c6d5f-beed-4547-d5e3-b96fecbab053"
      },
      "source": [
        "!python -m spacy download en_core_web_lg"
      ],
      "execution_count": null,
      "outputs": [
        {
          "output_type": "stream",
          "text": [
            "Collecting en_core_web_lg==2.2.5\n",
            "  Downloading https://github.com/explosion/spacy-models/releases/download/en_core_web_lg-2.2.5/en_core_web_lg-2.2.5.tar.gz (827.9 MB)\n",
            "\u001b[K     |████████████████████████████████| 827.9 MB 1.2 MB/s \n",
            "\u001b[?25hRequirement already satisfied: spacy>=2.2.2 in /usr/local/lib/python3.7/dist-packages (from en_core_web_lg==2.2.5) (2.2.4)\n",
            "Requirement already satisfied: wasabi<1.1.0,>=0.4.0 in /usr/local/lib/python3.7/dist-packages (from spacy>=2.2.2->en_core_web_lg==2.2.5) (0.8.2)\n",
            "Requirement already satisfied: setuptools in /usr/local/lib/python3.7/dist-packages (from spacy>=2.2.2->en_core_web_lg==2.2.5) (57.2.0)\n",
            "Requirement already satisfied: tqdm<5.0.0,>=4.38.0 in /usr/local/lib/python3.7/dist-packages (from spacy>=2.2.2->en_core_web_lg==2.2.5) (4.62.0)\n",
            "Requirement already satisfied: requests<3.0.0,>=2.13.0 in /usr/local/lib/python3.7/dist-packages (from spacy>=2.2.2->en_core_web_lg==2.2.5) (2.23.0)\n",
            "Requirement already satisfied: srsly<1.1.0,>=1.0.2 in /usr/local/lib/python3.7/dist-packages (from spacy>=2.2.2->en_core_web_lg==2.2.5) (1.0.5)\n",
            "Requirement already satisfied: plac<1.2.0,>=0.9.6 in /usr/local/lib/python3.7/dist-packages (from spacy>=2.2.2->en_core_web_lg==2.2.5) (1.1.3)\n",
            "Requirement already satisfied: murmurhash<1.1.0,>=0.28.0 in /usr/local/lib/python3.7/dist-packages (from spacy>=2.2.2->en_core_web_lg==2.2.5) (1.0.5)\n",
            "Requirement already satisfied: blis<0.5.0,>=0.4.0 in /usr/local/lib/python3.7/dist-packages (from spacy>=2.2.2->en_core_web_lg==2.2.5) (0.4.1)\n",
            "Requirement already satisfied: cymem<2.1.0,>=2.0.2 in /usr/local/lib/python3.7/dist-packages (from spacy>=2.2.2->en_core_web_lg==2.2.5) (2.0.5)\n",
            "Requirement already satisfied: thinc==7.4.0 in /usr/local/lib/python3.7/dist-packages (from spacy>=2.2.2->en_core_web_lg==2.2.5) (7.4.0)\n",
            "Requirement already satisfied: catalogue<1.1.0,>=0.0.7 in /usr/local/lib/python3.7/dist-packages (from spacy>=2.2.2->en_core_web_lg==2.2.5) (1.0.0)\n",
            "Requirement already satisfied: numpy>=1.15.0 in /usr/local/lib/python3.7/dist-packages (from spacy>=2.2.2->en_core_web_lg==2.2.5) (1.19.5)\n",
            "Requirement already satisfied: preshed<3.1.0,>=3.0.2 in /usr/local/lib/python3.7/dist-packages (from spacy>=2.2.2->en_core_web_lg==2.2.5) (3.0.5)\n",
            "Requirement already satisfied: importlib-metadata>=0.20 in /usr/local/lib/python3.7/dist-packages (from catalogue<1.1.0,>=0.0.7->spacy>=2.2.2->en_core_web_lg==2.2.5) (4.6.3)\n",
            "Requirement already satisfied: zipp>=0.5 in /usr/local/lib/python3.7/dist-packages (from importlib-metadata>=0.20->catalogue<1.1.0,>=0.0.7->spacy>=2.2.2->en_core_web_lg==2.2.5) (3.5.0)\n",
            "Requirement already satisfied: typing-extensions>=3.6.4 in /usr/local/lib/python3.7/dist-packages (from importlib-metadata>=0.20->catalogue<1.1.0,>=0.0.7->spacy>=2.2.2->en_core_web_lg==2.2.5) (3.7.4.3)\n",
            "Requirement already satisfied: chardet<4,>=3.0.2 in /usr/local/lib/python3.7/dist-packages (from requests<3.0.0,>=2.13.0->spacy>=2.2.2->en_core_web_lg==2.2.5) (3.0.4)\n",
            "Requirement already satisfied: certifi>=2017.4.17 in /usr/local/lib/python3.7/dist-packages (from requests<3.0.0,>=2.13.0->spacy>=2.2.2->en_core_web_lg==2.2.5) (2021.5.30)\n",
            "Requirement already satisfied: urllib3!=1.25.0,!=1.25.1,<1.26,>=1.21.1 in /usr/local/lib/python3.7/dist-packages (from requests<3.0.0,>=2.13.0->spacy>=2.2.2->en_core_web_lg==2.2.5) (1.24.3)\n",
            "Requirement already satisfied: idna<3,>=2.5 in /usr/local/lib/python3.7/dist-packages (from requests<3.0.0,>=2.13.0->spacy>=2.2.2->en_core_web_lg==2.2.5) (2.10)\n",
            "Building wheels for collected packages: en-core-web-lg\n",
            "  Building wheel for en-core-web-lg (setup.py) ... \u001b[?25l\u001b[?25hdone\n",
            "  Created wheel for en-core-web-lg: filename=en_core_web_lg-2.2.5-py3-none-any.whl size=829180942 sha256=fd9738f762d609b15cba73b50480a278606f73a306e2ef9b92bd239b9adf0979\n",
            "  Stored in directory: /tmp/pip-ephem-wheel-cache-aom0xcrp/wheels/11/95/ba/2c36cc368c0bd339b44a791c2c1881a1fb714b78c29a4cb8f5\n",
            "Successfully built en-core-web-lg\n",
            "Installing collected packages: en-core-web-lg\n",
            "Successfully installed en-core-web-lg-2.2.5\n",
            "\u001b[38;5;2m✔ Download and installation successful\u001b[0m\n",
            "You can now load the model via spacy.load('en_core_web_lg')\n"
          ],
          "name": "stdout"
        }
      ]
    },
    {
      "cell_type": "code",
      "metadata": {
        "id": "xgjPY8LLBGK3"
      },
      "source": [
        "# nlplg = spacy.load('en_core_web_lg')"
      ],
      "execution_count": null,
      "outputs": []
    },
    {
      "cell_type": "code",
      "metadata": {
        "id": "2nuLrRiBMm6v"
      },
      "source": [
        "article = \"\"\" Gone are the days of running to the ATM in order to get cash to tip your server or hair stylist. If cash was going out of style before the pandemic, consider its reputation ruined by infection concerns that have pushed consumers toward cashless alternatives — especially when it comes to tipping. Apps like Venmo, Cash App and PayPal let users easily facilitate peer-to-peer payments. And Apple and Google both have their own digital payment and wallet services. But while cashless tipping may be a consumer convenience, does it benefit service workers who have traditionally relied on cash tips? Bigger tips as a matter of convenience Digital payment systems often give customers the option to select a pre-calculated tip which, according to several companies that offer these services, often result in larger tips. For example, digital payment company Square allows merchants to select between a “smart tip” or a custom tip. When smart tip is turned on, transactions of less than $10 offer four tipping options: No Tip, $1, $2 or $3. For a transaction of $10 or more, the available tipping options are: No Tip, 15%, 20% or 25%. The custom tip setting allows businesses to select their own options. Another cashless payment service, Youtip uses QR codes to facilitate digital tipping and offers similar pre-calculated options for users called “Quick Tips.” After scanning a QR code, users are prompted to either enter a tip amount or select a “Quick Tip” option, which is a fixed amount set by the system or the business. According to the company’s data, over 70% of tips processed through the system are either a “Quick Tip” selection or higher, Sarah Taveprungsenukul, Youtip co-founder and chief commercial officer, told CNN Business. youtip, a digital payment service made specifically for cashless tipping, offers users \"Quick Tip\" options with pre-calculated tips. youtip, Inc. youtip, a digital payment service made specifically for cashless tipping, offers users \"Quick Tip\" options with pre-calculated tips. One lodging business that adopted Youtip’s system reported that it saw housekeeping tips rise from an average of $14 to $21 with the implementation of the QR codes and customized “Quick Tip” prompts, according to Youtip’s data. Tippy, another digital payment service, has seen similar increases. Originally created for the beauty industry, Tippy’s data shows that not only are people tipping more often when its cashless system is used, but the average tip has increased 11% since early 2020. “We’re encouraging people to tip more because we’re doing the calculation for them,” Terry McKim, Tippy’s founder and CIO, told CNN Business. Cashless options are also changing tipping norms, encouraging tips for workers who don’t usually receive them, like fast food servers or fitness instructors, according to Taveprungsenukul. “Tipping is everywhere and even the places where it isn’t, maybe it should be,” she said. “We’re working with a lot of groups, for example in quick-serve restaurants, where they’re implementing our solution.” The downsides of cashless tips Despite the convenience of cashless payments and tips, some service workers still prefer cash. For example, some workers don’t have access to the banking tools necessary to accept and process digital payments, Clara Wheatley-Schaller, political director at Workers United NY NJ, told CNN Business. “With anything that is cashless tipping, that would be the main concern: making sure the money is accessible and going directly to the worker,” she said. More than 80% of workers represented by Workers United, which represents a variety of service workers, experience some kind of wage theft, according to the union’s survey data. When customers add tips on their credit card, the money doesn’t always go directly to the worker. Those tips might get cut due to processing fees, for example. Because of this, some workers don’t trust that they’re getting all their cashless tips. Handing cash directly to a worker is the safest way to ensure they are getting the entirety of their tip, Whetley-Schaller said. D. Taylor, president of Unite Here, a union representing workers in the hotel and food service industries, has observed that workers benefit when there are pre-calculated tip options. But he said the union has struggled to find solutions that make cashless tipping easy for both the consumer and the worker. Most digital payment companies take a cut of the tips paid through their services, and it can be hard to ensure that tips are going to the intended workers, Taylor said. Tippy, for example, said it charges businesses a flat annual rate of $300 for the use of its services. And, instead of charging workers processing fees for using its software, the service charges the customer leaving a tip a fee for use of the system. Similarly, Youtip applies a service fee to the person paying the tip, but businesses have the option to cover that fee for customers. Another issue with digital tipping: taxes. While both cash and digital tips are taxable, cash is self-reported, so it’s easier for some payments to remain under the table. But, as tipping on credit cards has grown more popular in past years, paying taxes on tips is “old news,” Taylor said. For workers who are used to taking cash tips without always reporting them, digital tipping might actually alleviate their tax concerns. Although they’ll have to pay taxes on their tips, using digital payment services can increase tips enough to offset the cost of taxes, said David Tashjian, Tippy’s CEO and president. Adapting to a cashless economy is “not even a question of interest. It’s going to happen,” Taylor said. “The real question is how can the fruits of [a worker’s] labor be rewarded? And how is that done in a way that they are the beneficiaries of it as opposed to someone taking a cut that had nothing to do with their labor, but just developed an app?” \"\"\""
      ],
      "execution_count": null,
      "outputs": []
    },
    {
      "cell_type": "code",
      "metadata": {
        "colab": {
          "base_uri": "https://localhost:8080/"
        },
        "id": "7uHXjIzTAoRA",
        "outputId": "aadd3605-d276-4c57-f3aa-189bd698c747"
      },
      "source": [
        "for sent in nlp(article).sents:\n",
        "  print(sent)"
      ],
      "execution_count": null,
      "outputs": [
        {
          "output_type": "stream",
          "text": [
            " Gone are the days of running to the ATM in order to get cash to tip your server or hair stylist.\n",
            "If cash was going out of style before the pandemic, consider its reputation ruined by infection concerns that have pushed consumers toward cashless alternatives — especially when it comes to tipping.\n",
            "Apps like Venmo, Cash App and PayPal let users easily facilitate peer-to-peer payments.\n",
            "And Apple and Google both have their own digital payment and wallet services.\n",
            "But while cashless tipping may be a consumer convenience, does it benefit service workers who have traditionally relied on cash tips?\n",
            "Bigger tips as a matter of convenience Digital payment systems often give customers the option to select a pre-calculated tip which, according to several companies that offer these services, often result in larger tips.\n",
            "For example, digital payment company Square allows merchants to select between a “smart tip” or a custom tip.\n",
            "When smart tip is turned on, transactions of less than $10 offer four tipping options:\n",
            "No Tip, $1, $2 or $3.\n",
            "For a transaction of $10 or more, the available tipping options are: No Tip, 15%, 20% or 25%.\n",
            "The custom tip setting allows businesses to select their own options.\n",
            "Another cashless payment service, Youtip uses QR codes to facilitate digital tipping and offers similar pre-calculated options for users called “Quick Tips.”\n",
            "After scanning a QR code, users are prompted to either enter a tip amount or select a “Quick Tip” option, which is a fixed amount set by the system or the business.\n",
            "According to the company’s data, over 70% of tips processed through the system are either a “Quick Tip” selection or higher, Sarah Taveprungsenukul, Youtip co-founder and chief commercial officer, told CNN Business.\n",
            "youtip, a digital payment service made specifically for cashless tipping, offers users \"Quick Tip\" options with pre-calculated tips.\n",
            "youtip,\n",
            "Inc. youtip, a digital payment service made specifically for cashless tipping, offers users \"Quick Tip\" options with pre-calculated tips.\n",
            "One lodging business that adopted Youtip\n",
            "’s system reported that it saw housekeeping tips rise from an average of $14 to $21 with the implementation of the QR codes and customized “Quick Tip” prompts, according to Youtip’s data.\n",
            "Tippy, another digital payment service, has seen similar increases.\n",
            "Originally created for the beauty industry, Tippy’s data shows that not only are people tipping more often when its cashless system is used, but the average tip has increased 11% since early 2020.\n",
            "“We’re encouraging people to tip more because we’re doing the calculation for them,” Terry McKim, Tippy’s founder and CIO, told CNN Business.\n",
            "Cashless options are also changing tipping norms, encouraging tips for workers who don’t usually receive them, like fast food servers or fitness instructors, according to Taveprungsenukul.\n",
            "“Tipping is everywhere and even the places where it isn’t, maybe it should be,” she said.\n",
            "“We’re working with a lot of groups, for example in quick-serve restaurants, where they’re implementing our solution.”\n",
            "The downsides of cashless tips Despite the convenience of cashless payments and tips, some service workers still prefer cash.\n",
            "For example, some workers don’t have access to the banking tools necessary to accept and process digital payments, Clara Wheatley-Schaller, political director at Workers United NY NJ, told CNN Business.\n",
            "“With anything that is cashless tipping, that would be the main concern: making sure the money is accessible and going directly to the worker,” she said.\n",
            "More than 80% of workers represented by Workers United, which represents a variety of service workers, experience some kind of wage theft, according to the union’s survey data.\n",
            "When customers add tips on their credit card, the money doesn’t always go directly to the worker.\n",
            "Those tips might get cut due to processing fees, for example.\n",
            "Because of this, some workers don’t trust that they’re getting all their cashless tips.\n",
            "Handing cash directly to a worker is the safest way to ensure they are getting the entirety of their tip, Whetley-Schaller said.\n",
            "D. Taylor, president of Unite\n",
            "Here, a union representing workers in the hotel and food service industries, has observed that workers benefit when there are pre-calculated tip options.\n",
            "But he said the union has struggled to find solutions that make cashless tipping easy for both the consumer and the worker.\n",
            "Most digital payment companies take a cut of the tips paid through their services, and it can be hard to ensure that tips are going to the intended workers, Taylor said.\n",
            "Tippy, for example, said it charges businesses a flat annual rate of $300 for the use of its services.\n",
            "And, instead of charging workers processing fees for using its software, the service charges the customer leaving a tip a fee for use of the system.\n",
            "Similarly, Youtip applies a service fee to the person paying the tip, but businesses have the option to cover that fee for customers.\n",
            "Another issue with digital tipping: taxes.\n",
            "While both cash and digital tips are taxable, cash is self-reported, so it’s easier for some payments to remain under the table.\n",
            "But, as tipping on credit cards has grown more popular in past years, paying taxes on tips is “old news,” Taylor said.\n",
            "For workers who are used to taking cash tips without always reporting them, digital tipping might actually alleviate their tax concerns.\n",
            "Although they’ll have to pay taxes on their tips, using digital payment services can increase tips enough to offset the cost of taxes, said David Tashjian, Tippy’s CEO and president.\n",
            "Adapting to a cashless economy is “not even a question of interest.\n",
            "It’s going to happen,” Taylor said.\n",
            "“The real question is how can the fruits of [a worker’s] labor be rewarded?\n",
            "And how is that done in a way that they are the beneficiaries of it as opposed to someone taking a cut that had nothing to do with their labor, but just developed an app?”\n"
          ],
          "name": "stdout"
        }
      ]
    },
    {
      "cell_type": "code",
      "metadata": {
        "id": "y_xq8JDi8-2L"
      },
      "source": [
        "def summarize(doc, model, min_sentence_length=14, top_k=4):\n",
        "  doc_sentences = []\n",
        "  for sent in nlp(doc).sents:\n",
        "    if len(sent) > min_sentence_length: \n",
        "      doc_sentences.append(str(sent))\n",
        "  \n",
        "  model_input =   {\"sentence\":  tf.convert_to_tensor(doc_sentences, dtype=tf.string) , \"document\": tf.convert_to_tensor([doc] * len(doc_sentences), dtype=tf.string) }\n",
        "  scores = model.predict(model_input) \n",
        "\n",
        "  sent_pred_list = [{\"sentence\": doc_sentences[i], \"score\": scores[i][0], \"index\":i} for i in range(len(doc_sentences))]\n",
        "  sorted_sentences = sorted(sent_pred_list, key=lambda k: k['score'], reverse=True) \n",
        "\n",
        "  sorted_result = sorted_sentences[:top_k] \n",
        "  sorted_result = sorted(sorted_result, key=lambda k: k['index']) \n",
        "\n",
        "  summary = [ x[\"sentence\"] for x in sorted_result]\n",
        "  summary = \" \".join(summary)\n",
        "\n",
        "  return summary\n"
      ],
      "execution_count": null,
      "outputs": []
    },
    {
      "cell_type": "code",
      "metadata": {
        "colab": {
          "base_uri": "https://localhost:8080/"
        },
        "id": "dxKZK4Kc_TYs",
        "outputId": "3c6562a1-fbbf-4b68-9977-0e7b46381df2"
      },
      "source": [
        "summary = summarize(article, model, top_k=3)\n",
        "print(summary)"
      ],
      "execution_count": null,
      "outputs": [
        {
          "output_type": "stream",
          "text": [
            "’s system reported that it saw housekeeping tips rise from an average of $14 to $21 with the implementation of the QR codes and customized “Quick Tip” prompts, according to Youtip’s data. The downsides of cashless tips Despite the convenience of cashless payments and tips, some service workers still prefer cash. But, as tipping on credit cards has grown more popular in past years, paying taxes on tips is “old news,” Taylor said.\n"
          ],
          "name": "stdout"
        }
      ]
    },
    {
      "cell_type": "code",
      "metadata": {
        "id": "LoWPx41MMj_U"
      },
      "source": [
        "art_sents = []\n",
        "for sent in nlp(article).sents:\n",
        "  if len(sent) > 14:\n",
        "    # print(len(sent), sent)\n",
        "    art_sents.append(str(sent))"
      ],
      "execution_count": null,
      "outputs": []
    },
    {
      "cell_type": "code",
      "metadata": {
        "id": "UiV_QL9YM7GC"
      },
      "source": [
        ""
      ],
      "execution_count": null,
      "outputs": []
    },
    {
      "cell_type": "code",
      "metadata": {
        "id": "BEDvmV0zM8ho"
      },
      "source": [
        "preds = model.predict(doc_rep)"
      ],
      "execution_count": null,
      "outputs": []
    },
    {
      "cell_type": "code",
      "metadata": {
        "colab": {
          "base_uri": "https://localhost:8080/"
        },
        "id": "WHBeh5roPEZr",
        "outputId": "d54de65e-1fca-4b0c-d584-70260017233f"
      },
      "source": [
        "len(preds), len(art_sents)"
      ],
      "execution_count": null,
      "outputs": [
        {
          "output_type": "execute_result",
          "data": {
            "text/plain": [
              "(38, 38)"
            ]
          },
          "metadata": {
            "tags": []
          },
          "execution_count": 36
        }
      ]
    },
    {
      "cell_type": "code",
      "metadata": {
        "id": "5pSSncKD1dVL"
      },
      "source": [
        "sent_pred_list = [{\"sentence\": art_sents[i], \"score\": preds[i][0], \"index\":i} for i in range(len(art_sents))]"
      ],
      "execution_count": null,
      "outputs": []
    },
    {
      "cell_type": "code",
      "metadata": {
        "colab": {
          "base_uri": "https://localhost:8080/"
        },
        "id": "Dhv2Xq5J18-O",
        "outputId": "9013f69b-9056-4482-ac61-7e8309790b06"
      },
      "source": [
        "sent_pred_list[:2]"
      ],
      "execution_count": null,
      "outputs": [
        {
          "output_type": "execute_result",
          "data": {
            "text/plain": [
              "[{'index': 0,\n",
              "  'score': 0.06900206,\n",
              "  'sentence': ' Gone are the days of running to the ATM in order to get cash to tip your server or hair stylist.'},\n",
              " {'index': 1,\n",
              "  'score': 0.012387447,\n",
              "  'sentence': 'If cash was going out of style before the pandemic, consider its reputation ruined by infection concerns that have pushed consumers toward cashless alternatives — especially when it comes to tipping.'}]"
            ]
          },
          "metadata": {
            "tags": []
          },
          "execution_count": 41
        }
      ]
    },
    {
      "cell_type": "code",
      "metadata": {
        "id": "WV3gPCWB199X"
      },
      "source": [
        "sorted_sentences = sorted(sent_pred_list, key=lambda k: k['score'], reverse=True) "
      ],
      "execution_count": null,
      "outputs": []
    },
    {
      "cell_type": "code",
      "metadata": {
        "colab": {
          "base_uri": "https://localhost:8080/"
        },
        "id": "u2QLdgMq2YgD",
        "outputId": "a3339bd1-5412-4450-9996-e85136ea2698"
      },
      "source": [
        "top_k = 5\n",
        "sorted_result = sorted_sentences[:5]\n",
        "sorted_result  "
      ],
      "execution_count": null,
      "outputs": [
        {
          "output_type": "execute_result",
          "data": {
            "text/plain": [
              "[{'index': 19,\n",
              "  'score': 0.7550852,\n",
              "  'sentence': 'The downsides of cashless tips Despite the convenience of cashless payments and tips, some service workers still prefer cash.'},\n",
              " {'index': 13,\n",
              "  'score': 0.31116402,\n",
              "  'sentence': '’s system reported that it saw housekeeping tips rise from an average of $14 to $21 with the implementation of the QR codes and customized “Quick Tip” prompts, according to Youtip’s data.'},\n",
              " {'index': 33,\n",
              "  'score': 0.13683037,\n",
              "  'sentence': 'But, as tipping on credit cards has grown more popular in past years, paying taxes on tips is “old news,” Taylor said.'},\n",
              " {'index': 3,\n",
              "  'score': 0.13030703,\n",
              "  'sentence': 'But while cashless tipping may be a consumer convenience, does it benefit service workers who have traditionally relied on cash tips?'},\n",
              " {'index': 7,\n",
              "  'score': 0.1103212,\n",
              "  'sentence': 'For a transaction of $10 or more, the available tipping options are: No Tip, 15%, 20% or 25%.'}]"
            ]
          },
          "metadata": {
            "tags": []
          },
          "execution_count": 47
        }
      ]
    },
    {
      "cell_type": "code",
      "metadata": {
        "colab": {
          "base_uri": "https://localhost:8080/"
        },
        "id": "KUlHu8ez2ZvB",
        "outputId": "66a70982-c613-4c10-be1a-6180b82881c1"
      },
      "source": [
        "sorted_result = sorted(sorted_result, key=lambda k: k['index'])\n",
        "sorted_result"
      ],
      "execution_count": null,
      "outputs": [
        {
          "output_type": "execute_result",
          "data": {
            "text/plain": [
              "[{'index': 3,\n",
              "  'score': 0.13030703,\n",
              "  'sentence': 'But while cashless tipping may be a consumer convenience, does it benefit service workers who have traditionally relied on cash tips?'},\n",
              " {'index': 7,\n",
              "  'score': 0.1103212,\n",
              "  'sentence': 'For a transaction of $10 or more, the available tipping options are: No Tip, 15%, 20% or 25%.'},\n",
              " {'index': 13,\n",
              "  'score': 0.31116402,\n",
              "  'sentence': '’s system reported that it saw housekeeping tips rise from an average of $14 to $21 with the implementation of the QR codes and customized “Quick Tip” prompts, according to Youtip’s data.'},\n",
              " {'index': 19,\n",
              "  'score': 0.7550852,\n",
              "  'sentence': 'The downsides of cashless tips Despite the convenience of cashless payments and tips, some service workers still prefer cash.'},\n",
              " {'index': 33,\n",
              "  'score': 0.13683037,\n",
              "  'sentence': 'But, as tipping on credit cards has grown more popular in past years, paying taxes on tips is “old news,” Taylor said.'}]"
            ]
          },
          "metadata": {
            "tags": []
          },
          "execution_count": 50
        }
      ]
    },
    {
      "cell_type": "code",
      "metadata": {
        "colab": {
          "base_uri": "https://localhost:8080/"
        },
        "id": "eGV70yCw8nAH",
        "outputId": "4b2b8172-d607-44e9-a193-a7ebc35b6202"
      },
      "source": [
        "output = [ x[\"sentence\"] for x in sorted_result]\n",
        "output = \" \".join(output)\n",
        "print(output)"
      ],
      "execution_count": null,
      "outputs": [
        {
          "output_type": "stream",
          "text": [
            "But while cashless tipping may be a consumer convenience, does it benefit service workers who have traditionally relied on cash tips? For a transaction of $10 or more, the available tipping options are: No Tip, 15%, 20% or 25%. ’s system reported that it saw housekeeping tips rise from an average of $14 to $21 with the implementation of the QR codes and customized “Quick Tip” prompts, according to Youtip’s data. The downsides of cashless tips Despite the convenience of cashless payments and tips, some service workers still prefer cash. But, as tipping on credit cards has grown more popular in past years, paying taxes on tips is “old news,” Taylor said.\n"
          ],
          "name": "stdout"
        }
      ]
    },
    {
      "cell_type": "code",
      "metadata": {
        "id": "4ad0-IjE8wK0"
      },
      "source": [
        ""
      ],
      "execution_count": null,
      "outputs": []
    }
  ]
}